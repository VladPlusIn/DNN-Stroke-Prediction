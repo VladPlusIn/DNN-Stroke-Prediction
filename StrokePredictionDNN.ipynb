{
 "cells": [
  {
   "cell_type": "markdown",
   "id": "3c6fe9b4-9724-47ff-aebf-0907230514c6",
   "metadata": {
    "id": "3c6fe9b4-9724-47ff-aebf-0907230514c6"
   },
   "source": [
    "## Data extraction"
   ]
  },
  {
   "cell_type": "code",
   "execution_count": 1,
   "id": "31332834-57be-45a7-8ce8-4efbd57161af",
   "metadata": {
    "id": "31332834-57be-45a7-8ce8-4efbd57161af"
   },
   "outputs": [],
   "source": [
    "import numpy as np\n",
    "import pandas as pd\n",
    "import matplotlib.pyplot as plt\n",
    "from scipy import stats\n",
    "import sklearn\n",
    "from sklearn.pipeline import Pipeline\n",
    "from sklearn.compose import ColumnTransformer\n",
    "from sklearn.preprocessing import OneHotEncoder, FunctionTransformer\n",
    "from sklearn.compose import make_column_selector as selector\n",
    "from sklearn.impute import KNNImputer\n",
    "from sklearn.ensemble import IsolationForest\n",
    "from sklearn.model_selection import train_test_split\n",
    "from sklearn.preprocessing import StandardScaler\n",
    "from sklearn.utils import resample\n",
    "from sklearn.metrics import confusion_matrix\n",
    "from sklearn.metrics import precision_score, recall_score, f1_score, accuracy_score\n",
    "from tensorflow.keras.models import Sequential\n",
    "from tensorflow.keras.layers import Dense, Dropout\n",
    "from tensorflow.keras.optimizers import Adam\n",
    "import tensorflow as tf\n",
    "import keras_tuner as kt\n",
    "from tensorflow.keras.regularizers import l2"
   ]
  },
  {
   "cell_type": "code",
   "execution_count": 2,
   "id": "5e3bf45a-73b4-4572-8cb2-cb37a5097a01",
   "metadata": {
    "id": "5e3bf45a-73b4-4572-8cb2-cb37a5097a01"
   },
   "outputs": [],
   "source": [
    "# Set option to display all columns\n",
    "\n",
    "pd.set_option('display.max_columns', None)\n",
    "\n",
    "# Read the CSV file into a DataFrame, using the first column as the index\n",
    "data = pd.read_csv(\"healthcare-dataset-stroke-data-1.csv\", index_col='Unnamed: 0')"
   ]
  },
  {
   "cell_type": "code",
   "execution_count": 3,
   "id": "ff5ded70-b3af-40a7-88c8-7db705b8101b",
   "metadata": {
    "id": "ff5ded70-b3af-40a7-88c8-7db705b8101b"
   },
   "outputs": [],
   "source": [
    "data.drop('id',axis=1,inplace=True)"
   ]
  },
  {
   "cell_type": "code",
   "execution_count": 4,
   "id": "1c6cedf9-fbd4-40ff-bcb9-666919a4788d",
   "metadata": {
    "colab": {
     "base_uri": "https://localhost:8080/",
     "height": 259
    },
    "id": "1c6cedf9-fbd4-40ff-bcb9-666919a4788d",
    "outputId": "ecafb2df-70f8-4835-ce13-cf9ea669a856"
   },
   "outputs": [
    {
     "data": {
      "text/html": [
       "<style>#sk-container-id-1 {color: black;}#sk-container-id-1 pre{padding: 0;}#sk-container-id-1 div.sk-toggleable {background-color: white;}#sk-container-id-1 label.sk-toggleable__label {cursor: pointer;display: block;width: 100%;margin-bottom: 0;padding: 0.3em;box-sizing: border-box;text-align: center;}#sk-container-id-1 label.sk-toggleable__label-arrow:before {content: \"▸\";float: left;margin-right: 0.25em;color: #696969;}#sk-container-id-1 label.sk-toggleable__label-arrow:hover:before {color: black;}#sk-container-id-1 div.sk-estimator:hover label.sk-toggleable__label-arrow:before {color: black;}#sk-container-id-1 div.sk-toggleable__content {max-height: 0;max-width: 0;overflow: hidden;text-align: left;background-color: #f0f8ff;}#sk-container-id-1 div.sk-toggleable__content pre {margin: 0.2em;color: black;border-radius: 0.25em;background-color: #f0f8ff;}#sk-container-id-1 input.sk-toggleable__control:checked~div.sk-toggleable__content {max-height: 200px;max-width: 100%;overflow: auto;}#sk-container-id-1 input.sk-toggleable__control:checked~label.sk-toggleable__label-arrow:before {content: \"▾\";}#sk-container-id-1 div.sk-estimator input.sk-toggleable__control:checked~label.sk-toggleable__label {background-color: #d4ebff;}#sk-container-id-1 div.sk-label input.sk-toggleable__control:checked~label.sk-toggleable__label {background-color: #d4ebff;}#sk-container-id-1 input.sk-hidden--visually {border: 0;clip: rect(1px 1px 1px 1px);clip: rect(1px, 1px, 1px, 1px);height: 1px;margin: -1px;overflow: hidden;padding: 0;position: absolute;width: 1px;}#sk-container-id-1 div.sk-estimator {font-family: monospace;background-color: #f0f8ff;border: 1px dotted black;border-radius: 0.25em;box-sizing: border-box;margin-bottom: 0.5em;}#sk-container-id-1 div.sk-estimator:hover {background-color: #d4ebff;}#sk-container-id-1 div.sk-parallel-item::after {content: \"\";width: 100%;border-bottom: 1px solid gray;flex-grow: 1;}#sk-container-id-1 div.sk-label:hover label.sk-toggleable__label {background-color: #d4ebff;}#sk-container-id-1 div.sk-serial::before {content: \"\";position: absolute;border-left: 1px solid gray;box-sizing: border-box;top: 0;bottom: 0;left: 50%;z-index: 0;}#sk-container-id-1 div.sk-serial {display: flex;flex-direction: column;align-items: center;background-color: white;padding-right: 0.2em;padding-left: 0.2em;position: relative;}#sk-container-id-1 div.sk-item {position: relative;z-index: 1;}#sk-container-id-1 div.sk-parallel {display: flex;align-items: stretch;justify-content: center;background-color: white;position: relative;}#sk-container-id-1 div.sk-item::before, #sk-container-id-1 div.sk-parallel-item::before {content: \"\";position: absolute;border-left: 1px solid gray;box-sizing: border-box;top: 0;bottom: 0;left: 50%;z-index: -1;}#sk-container-id-1 div.sk-parallel-item {display: flex;flex-direction: column;z-index: 1;position: relative;background-color: white;}#sk-container-id-1 div.sk-parallel-item:first-child::after {align-self: flex-end;width: 50%;}#sk-container-id-1 div.sk-parallel-item:last-child::after {align-self: flex-start;width: 50%;}#sk-container-id-1 div.sk-parallel-item:only-child::after {width: 0;}#sk-container-id-1 div.sk-dashed-wrapped {border: 1px dashed gray;margin: 0 0.4em 0.5em 0.4em;box-sizing: border-box;padding-bottom: 0.4em;background-color: white;}#sk-container-id-1 div.sk-label label {font-family: monospace;font-weight: bold;display: inline-block;line-height: 1.2em;}#sk-container-id-1 div.sk-label-container {text-align: center;}#sk-container-id-1 div.sk-container {/* jupyter's `normalize.less` sets `[hidden] { display: none; }` but bootstrap.min.css set `[hidden] { display: none !important; }` so we also need the `!important` here to be able to override the default hidden behavior on the sphinx rendered scikit-learn.org. See: https://github.com/scikit-learn/scikit-learn/issues/21755 */display: inline-block !important;position: relative;}#sk-container-id-1 div.sk-text-repr-fallback {display: none;}</style><div id=\"sk-container-id-1\" class=\"sk-top-container\"><div class=\"sk-text-repr-fallback\"><pre>Pipeline(steps=[(&#x27;drop_na&#x27;,\n",
       "                 FunctionTransformer(func=&lt;function &lt;lambda&gt; at 0x00000211C4035750&gt;)),\n",
       "                (&#x27;encode_cat&#x27;,\n",
       "                 ColumnTransformer(remainder=&#x27;passthrough&#x27;,\n",
       "                                   transformers=[(&#x27;one_hot&#x27;,\n",
       "                                                  OneHotEncoder(handle_unknown=&#x27;ignore&#x27;),\n",
       "                                                  &lt;sklearn.compose._column_transformer.make_column_selector object at 0x00000211C4016DD0&gt;)])),\n",
       "                (&#x27;impute&#x27;, KNNImputer()),\n",
       "                (&#x27;remove_outliers&#x27;,\n",
       "                 FunctionTransformer(func=&lt;function &lt;lambda&gt; at 0x00000211C4035870&gt;))])</pre><b>In a Jupyter environment, please rerun this cell to show the HTML representation or trust the notebook. <br />On GitHub, the HTML representation is unable to render, please try loading this page with nbviewer.org.</b></div><div class=\"sk-container\" hidden><div class=\"sk-item sk-dashed-wrapped\"><div class=\"sk-label-container\"><div class=\"sk-label sk-toggleable\"><input class=\"sk-toggleable__control sk-hidden--visually\" id=\"sk-estimator-id-1\" type=\"checkbox\" ><label for=\"sk-estimator-id-1\" class=\"sk-toggleable__label sk-toggleable__label-arrow\">Pipeline</label><div class=\"sk-toggleable__content\"><pre>Pipeline(steps=[(&#x27;drop_na&#x27;,\n",
       "                 FunctionTransformer(func=&lt;function &lt;lambda&gt; at 0x00000211C4035750&gt;)),\n",
       "                (&#x27;encode_cat&#x27;,\n",
       "                 ColumnTransformer(remainder=&#x27;passthrough&#x27;,\n",
       "                                   transformers=[(&#x27;one_hot&#x27;,\n",
       "                                                  OneHotEncoder(handle_unknown=&#x27;ignore&#x27;),\n",
       "                                                  &lt;sklearn.compose._column_transformer.make_column_selector object at 0x00000211C4016DD0&gt;)])),\n",
       "                (&#x27;impute&#x27;, KNNImputer()),\n",
       "                (&#x27;remove_outliers&#x27;,\n",
       "                 FunctionTransformer(func=&lt;function &lt;lambda&gt; at 0x00000211C4035870&gt;))])</pre></div></div></div><div class=\"sk-serial\"><div class=\"sk-item\"><div class=\"sk-estimator sk-toggleable\"><input class=\"sk-toggleable__control sk-hidden--visually\" id=\"sk-estimator-id-2\" type=\"checkbox\" ><label for=\"sk-estimator-id-2\" class=\"sk-toggleable__label sk-toggleable__label-arrow\">FunctionTransformer</label><div class=\"sk-toggleable__content\"><pre>FunctionTransformer(func=&lt;function &lt;lambda&gt; at 0x00000211C4035750&gt;)</pre></div></div></div><div class=\"sk-item sk-dashed-wrapped\"><div class=\"sk-label-container\"><div class=\"sk-label sk-toggleable\"><input class=\"sk-toggleable__control sk-hidden--visually\" id=\"sk-estimator-id-3\" type=\"checkbox\" ><label for=\"sk-estimator-id-3\" class=\"sk-toggleable__label sk-toggleable__label-arrow\">encode_cat: ColumnTransformer</label><div class=\"sk-toggleable__content\"><pre>ColumnTransformer(remainder=&#x27;passthrough&#x27;,\n",
       "                  transformers=[(&#x27;one_hot&#x27;,\n",
       "                                 OneHotEncoder(handle_unknown=&#x27;ignore&#x27;),\n",
       "                                 &lt;sklearn.compose._column_transformer.make_column_selector object at 0x00000211C4016DD0&gt;)])</pre></div></div></div><div class=\"sk-parallel\"><div class=\"sk-parallel-item\"><div class=\"sk-item\"><div class=\"sk-label-container\"><div class=\"sk-label sk-toggleable\"><input class=\"sk-toggleable__control sk-hidden--visually\" id=\"sk-estimator-id-4\" type=\"checkbox\" ><label for=\"sk-estimator-id-4\" class=\"sk-toggleable__label sk-toggleable__label-arrow\">one_hot</label><div class=\"sk-toggleable__content\"><pre>&lt;sklearn.compose._column_transformer.make_column_selector object at 0x00000211C4016DD0&gt;</pre></div></div></div><div class=\"sk-serial\"><div class=\"sk-item\"><div class=\"sk-estimator sk-toggleable\"><input class=\"sk-toggleable__control sk-hidden--visually\" id=\"sk-estimator-id-5\" type=\"checkbox\" ><label for=\"sk-estimator-id-5\" class=\"sk-toggleable__label sk-toggleable__label-arrow\">OneHotEncoder</label><div class=\"sk-toggleable__content\"><pre>OneHotEncoder(handle_unknown=&#x27;ignore&#x27;)</pre></div></div></div></div></div></div><div class=\"sk-parallel-item\"><div class=\"sk-item\"><div class=\"sk-label-container\"><div class=\"sk-label sk-toggleable\"><input class=\"sk-toggleable__control sk-hidden--visually\" id=\"sk-estimator-id-6\" type=\"checkbox\" ><label for=\"sk-estimator-id-6\" class=\"sk-toggleable__label sk-toggleable__label-arrow\">remainder</label><div class=\"sk-toggleable__content\"><pre>[&#x27;age&#x27;, &#x27;hypertension&#x27;, &#x27;heart_disease&#x27;, &#x27;avg_glucose_level&#x27;, &#x27;bmi&#x27;, &#x27;stroke&#x27;]</pre></div></div></div><div class=\"sk-serial\"><div class=\"sk-item\"><div class=\"sk-estimator sk-toggleable\"><input class=\"sk-toggleable__control sk-hidden--visually\" id=\"sk-estimator-id-7\" type=\"checkbox\" ><label for=\"sk-estimator-id-7\" class=\"sk-toggleable__label sk-toggleable__label-arrow\">passthrough</label><div class=\"sk-toggleable__content\"><pre>passthrough</pre></div></div></div></div></div></div></div></div><div class=\"sk-item\"><div class=\"sk-estimator sk-toggleable\"><input class=\"sk-toggleable__control sk-hidden--visually\" id=\"sk-estimator-id-8\" type=\"checkbox\" ><label for=\"sk-estimator-id-8\" class=\"sk-toggleable__label sk-toggleable__label-arrow\">KNNImputer</label><div class=\"sk-toggleable__content\"><pre>KNNImputer()</pre></div></div></div><div class=\"sk-item\"><div class=\"sk-estimator sk-toggleable\"><input class=\"sk-toggleable__control sk-hidden--visually\" id=\"sk-estimator-id-9\" type=\"checkbox\" ><label for=\"sk-estimator-id-9\" class=\"sk-toggleable__label sk-toggleable__label-arrow\">FunctionTransformer</label><div class=\"sk-toggleable__content\"><pre>FunctionTransformer(func=&lt;function &lt;lambda&gt; at 0x00000211C4035870&gt;)</pre></div></div></div></div></div></div></div>"
      ],
      "text/plain": [
       "Pipeline(steps=[('drop_na',\n",
       "                 FunctionTransformer(func=<function <lambda> at 0x00000211C4035750>)),\n",
       "                ('encode_cat',\n",
       "                 ColumnTransformer(remainder='passthrough',\n",
       "                                   transformers=[('one_hot',\n",
       "                                                  OneHotEncoder(handle_unknown='ignore'),\n",
       "                                                  <sklearn.compose._column_transformer.make_column_selector object at 0x00000211C4016DD0>)])),\n",
       "                ('impute', KNNImputer()),\n",
       "                ('remove_outliers',\n",
       "                 FunctionTransformer(func=<function <lambda> at 0x00000211C4035870>))])"
      ]
     },
     "execution_count": 4,
     "metadata": {},
     "output_type": "execute_result"
    }
   ],
   "source": [
    "pipeline = Pipeline([\n",
    "    # Drop NA values in object columns\n",
    "    ('drop_na', FunctionTransformer(lambda X: X.dropna(subset=X.select_dtypes(include=['object']).columns), validate=False)),\n",
    "\n",
    "    # One-hot encode categorical features\n",
    "    ('encode_cat', ColumnTransformer([\n",
    "        ('one_hot', OneHotEncoder(handle_unknown='ignore'), selector(dtype_include='object'))\n",
    "    ], remainder='passthrough')),\n",
    "\n",
    "    # Impute missing values using KNN\n",
    "    ('impute', KNNImputer(n_neighbors=5)),\n",
    "\n",
    "    # Remove outliers using Isolation Forest\n",
    "    ('remove_outliers', FunctionTransformer(lambda data: data[np.array(IsolationForest(random_state=42).fit_predict(data[:, :-1])) == 1], validate=False))\n",
    "])\n",
    "\n",
    "# Fit the pipeline\n",
    "pipeline.fit(data)"
   ]
  },
  {
   "cell_type": "code",
   "execution_count": 5,
   "id": "68b6b9d3-e866-40e3-b47a-2fc94035ef21",
   "metadata": {
    "colab": {
     "base_uri": "https://localhost:8080/",
     "height": 461
    },
    "id": "68b6b9d3-e866-40e3-b47a-2fc94035ef21",
    "outputId": "5c7b7196-6bcb-4eec-858c-d5fdb3f32ff6"
   },
   "outputs": [
    {
     "data": {
      "text/html": [
       "<div>\n",
       "<style scoped>\n",
       "    .dataframe tbody tr th:only-of-type {\n",
       "        vertical-align: middle;\n",
       "    }\n",
       "\n",
       "    .dataframe tbody tr th {\n",
       "        vertical-align: top;\n",
       "    }\n",
       "\n",
       "    .dataframe thead th {\n",
       "        text-align: right;\n",
       "    }\n",
       "</style>\n",
       "<table border=\"1\" class=\"dataframe\">\n",
       "  <thead>\n",
       "    <tr style=\"text-align: right;\">\n",
       "      <th></th>\n",
       "      <th>gender_Female</th>\n",
       "      <th>gender_Male</th>\n",
       "      <th>gender_Other</th>\n",
       "      <th>ever_married_No</th>\n",
       "      <th>ever_married_Yes</th>\n",
       "      <th>work_type_Govt_job</th>\n",
       "      <th>work_type_Never_worked</th>\n",
       "      <th>work_type_Private</th>\n",
       "      <th>work_type_Self-employed</th>\n",
       "      <th>work_type_children</th>\n",
       "      <th>Residence_type_Rural</th>\n",
       "      <th>Residence_type_Urban</th>\n",
       "      <th>smoking_status_Unknown</th>\n",
       "      <th>smoking_status_formerly smoked</th>\n",
       "      <th>smoking_status_never smoked</th>\n",
       "      <th>smoking_status_smokes</th>\n",
       "      <th>age</th>\n",
       "      <th>hypertension</th>\n",
       "      <th>heart_disease</th>\n",
       "      <th>avg_glucose_level</th>\n",
       "      <th>bmi</th>\n",
       "      <th>stroke</th>\n",
       "    </tr>\n",
       "  </thead>\n",
       "  <tbody>\n",
       "    <tr>\n",
       "      <th>0</th>\n",
       "      <td>1.0</td>\n",
       "      <td>0.0</td>\n",
       "      <td>0.0</td>\n",
       "      <td>0.0</td>\n",
       "      <td>1.0</td>\n",
       "      <td>0.0</td>\n",
       "      <td>0.0</td>\n",
       "      <td>1.0</td>\n",
       "      <td>0.0</td>\n",
       "      <td>0.0</td>\n",
       "      <td>0.0</td>\n",
       "      <td>1.0</td>\n",
       "      <td>0.0</td>\n",
       "      <td>0.0</td>\n",
       "      <td>0.0</td>\n",
       "      <td>1.0</td>\n",
       "      <td>49.0</td>\n",
       "      <td>0.0</td>\n",
       "      <td>0.0</td>\n",
       "      <td>171.23</td>\n",
       "      <td>34.40</td>\n",
       "      <td>1.0</td>\n",
       "    </tr>\n",
       "    <tr>\n",
       "      <th>1</th>\n",
       "      <td>1.0</td>\n",
       "      <td>0.0</td>\n",
       "      <td>0.0</td>\n",
       "      <td>1.0</td>\n",
       "      <td>0.0</td>\n",
       "      <td>0.0</td>\n",
       "      <td>0.0</td>\n",
       "      <td>1.0</td>\n",
       "      <td>0.0</td>\n",
       "      <td>0.0</td>\n",
       "      <td>0.0</td>\n",
       "      <td>1.0</td>\n",
       "      <td>0.0</td>\n",
       "      <td>0.0</td>\n",
       "      <td>1.0</td>\n",
       "      <td>0.0</td>\n",
       "      <td>69.0</td>\n",
       "      <td>0.0</td>\n",
       "      <td>0.0</td>\n",
       "      <td>94.39</td>\n",
       "      <td>22.80</td>\n",
       "      <td>1.0</td>\n",
       "    </tr>\n",
       "    <tr>\n",
       "      <th>2</th>\n",
       "      <td>1.0</td>\n",
       "      <td>0.0</td>\n",
       "      <td>0.0</td>\n",
       "      <td>0.0</td>\n",
       "      <td>1.0</td>\n",
       "      <td>0.0</td>\n",
       "      <td>0.0</td>\n",
       "      <td>1.0</td>\n",
       "      <td>0.0</td>\n",
       "      <td>0.0</td>\n",
       "      <td>1.0</td>\n",
       "      <td>0.0</td>\n",
       "      <td>1.0</td>\n",
       "      <td>0.0</td>\n",
       "      <td>0.0</td>\n",
       "      <td>0.0</td>\n",
       "      <td>59.0</td>\n",
       "      <td>0.0</td>\n",
       "      <td>0.0</td>\n",
       "      <td>76.15</td>\n",
       "      <td>26.64</td>\n",
       "      <td>1.0</td>\n",
       "    </tr>\n",
       "    <tr>\n",
       "      <th>3</th>\n",
       "      <td>1.0</td>\n",
       "      <td>0.0</td>\n",
       "      <td>0.0</td>\n",
       "      <td>0.0</td>\n",
       "      <td>1.0</td>\n",
       "      <td>0.0</td>\n",
       "      <td>0.0</td>\n",
       "      <td>1.0</td>\n",
       "      <td>0.0</td>\n",
       "      <td>0.0</td>\n",
       "      <td>0.0</td>\n",
       "      <td>1.0</td>\n",
       "      <td>1.0</td>\n",
       "      <td>0.0</td>\n",
       "      <td>0.0</td>\n",
       "      <td>0.0</td>\n",
       "      <td>78.0</td>\n",
       "      <td>0.0</td>\n",
       "      <td>0.0</td>\n",
       "      <td>58.57</td>\n",
       "      <td>24.20</td>\n",
       "      <td>1.0</td>\n",
       "    </tr>\n",
       "    <tr>\n",
       "      <th>4</th>\n",
       "      <td>1.0</td>\n",
       "      <td>0.0</td>\n",
       "      <td>0.0</td>\n",
       "      <td>0.0</td>\n",
       "      <td>1.0</td>\n",
       "      <td>0.0</td>\n",
       "      <td>0.0</td>\n",
       "      <td>1.0</td>\n",
       "      <td>0.0</td>\n",
       "      <td>0.0</td>\n",
       "      <td>0.0</td>\n",
       "      <td>1.0</td>\n",
       "      <td>0.0</td>\n",
       "      <td>0.0</td>\n",
       "      <td>0.0</td>\n",
       "      <td>1.0</td>\n",
       "      <td>54.0</td>\n",
       "      <td>0.0</td>\n",
       "      <td>0.0</td>\n",
       "      <td>104.51</td>\n",
       "      <td>27.30</td>\n",
       "      <td>1.0</td>\n",
       "    </tr>\n",
       "    <tr>\n",
       "      <th>...</th>\n",
       "      <td>...</td>\n",
       "      <td>...</td>\n",
       "      <td>...</td>\n",
       "      <td>...</td>\n",
       "      <td>...</td>\n",
       "      <td>...</td>\n",
       "      <td>...</td>\n",
       "      <td>...</td>\n",
       "      <td>...</td>\n",
       "      <td>...</td>\n",
       "      <td>...</td>\n",
       "      <td>...</td>\n",
       "      <td>...</td>\n",
       "      <td>...</td>\n",
       "      <td>...</td>\n",
       "      <td>...</td>\n",
       "      <td>...</td>\n",
       "      <td>...</td>\n",
       "      <td>...</td>\n",
       "      <td>...</td>\n",
       "      <td>...</td>\n",
       "      <td>...</td>\n",
       "    </tr>\n",
       "    <tr>\n",
       "      <th>2421</th>\n",
       "      <td>1.0</td>\n",
       "      <td>0.0</td>\n",
       "      <td>0.0</td>\n",
       "      <td>0.0</td>\n",
       "      <td>1.0</td>\n",
       "      <td>0.0</td>\n",
       "      <td>0.0</td>\n",
       "      <td>1.0</td>\n",
       "      <td>0.0</td>\n",
       "      <td>0.0</td>\n",
       "      <td>0.0</td>\n",
       "      <td>1.0</td>\n",
       "      <td>1.0</td>\n",
       "      <td>0.0</td>\n",
       "      <td>0.0</td>\n",
       "      <td>0.0</td>\n",
       "      <td>45.0</td>\n",
       "      <td>0.0</td>\n",
       "      <td>0.0</td>\n",
       "      <td>97.95</td>\n",
       "      <td>24.50</td>\n",
       "      <td>0.0</td>\n",
       "    </tr>\n",
       "    <tr>\n",
       "      <th>2422</th>\n",
       "      <td>1.0</td>\n",
       "      <td>0.0</td>\n",
       "      <td>0.0</td>\n",
       "      <td>0.0</td>\n",
       "      <td>1.0</td>\n",
       "      <td>0.0</td>\n",
       "      <td>0.0</td>\n",
       "      <td>1.0</td>\n",
       "      <td>0.0</td>\n",
       "      <td>0.0</td>\n",
       "      <td>1.0</td>\n",
       "      <td>0.0</td>\n",
       "      <td>0.0</td>\n",
       "      <td>0.0</td>\n",
       "      <td>1.0</td>\n",
       "      <td>0.0</td>\n",
       "      <td>57.0</td>\n",
       "      <td>0.0</td>\n",
       "      <td>0.0</td>\n",
       "      <td>77.93</td>\n",
       "      <td>21.70</td>\n",
       "      <td>0.0</td>\n",
       "    </tr>\n",
       "    <tr>\n",
       "      <th>2423</th>\n",
       "      <td>1.0</td>\n",
       "      <td>0.0</td>\n",
       "      <td>0.0</td>\n",
       "      <td>1.0</td>\n",
       "      <td>0.0</td>\n",
       "      <td>0.0</td>\n",
       "      <td>0.0</td>\n",
       "      <td>0.0</td>\n",
       "      <td>0.0</td>\n",
       "      <td>1.0</td>\n",
       "      <td>1.0</td>\n",
       "      <td>0.0</td>\n",
       "      <td>1.0</td>\n",
       "      <td>0.0</td>\n",
       "      <td>0.0</td>\n",
       "      <td>0.0</td>\n",
       "      <td>13.0</td>\n",
       "      <td>0.0</td>\n",
       "      <td>0.0</td>\n",
       "      <td>103.08</td>\n",
       "      <td>18.60</td>\n",
       "      <td>0.0</td>\n",
       "    </tr>\n",
       "    <tr>\n",
       "      <th>2424</th>\n",
       "      <td>1.0</td>\n",
       "      <td>0.0</td>\n",
       "      <td>0.0</td>\n",
       "      <td>0.0</td>\n",
       "      <td>1.0</td>\n",
       "      <td>0.0</td>\n",
       "      <td>0.0</td>\n",
       "      <td>1.0</td>\n",
       "      <td>0.0</td>\n",
       "      <td>0.0</td>\n",
       "      <td>0.0</td>\n",
       "      <td>1.0</td>\n",
       "      <td>0.0</td>\n",
       "      <td>0.0</td>\n",
       "      <td>1.0</td>\n",
       "      <td>0.0</td>\n",
       "      <td>80.0</td>\n",
       "      <td>1.0</td>\n",
       "      <td>0.0</td>\n",
       "      <td>83.75</td>\n",
       "      <td>27.84</td>\n",
       "      <td>0.0</td>\n",
       "    </tr>\n",
       "    <tr>\n",
       "      <th>2425</th>\n",
       "      <td>1.0</td>\n",
       "      <td>0.0</td>\n",
       "      <td>0.0</td>\n",
       "      <td>0.0</td>\n",
       "      <td>1.0</td>\n",
       "      <td>0.0</td>\n",
       "      <td>0.0</td>\n",
       "      <td>0.0</td>\n",
       "      <td>1.0</td>\n",
       "      <td>0.0</td>\n",
       "      <td>1.0</td>\n",
       "      <td>0.0</td>\n",
       "      <td>0.0</td>\n",
       "      <td>0.0</td>\n",
       "      <td>1.0</td>\n",
       "      <td>0.0</td>\n",
       "      <td>35.0</td>\n",
       "      <td>0.0</td>\n",
       "      <td>0.0</td>\n",
       "      <td>82.99</td>\n",
       "      <td>30.60</td>\n",
       "      <td>0.0</td>\n",
       "    </tr>\n",
       "  </tbody>\n",
       "</table>\n",
       "<p>2426 rows × 22 columns</p>\n",
       "</div>"
      ],
      "text/plain": [
       "      gender_Female  gender_Male  gender_Other  ever_married_No  \\\n",
       "0               1.0          0.0           0.0              0.0   \n",
       "1               1.0          0.0           0.0              1.0   \n",
       "2               1.0          0.0           0.0              0.0   \n",
       "3               1.0          0.0           0.0              0.0   \n",
       "4               1.0          0.0           0.0              0.0   \n",
       "...             ...          ...           ...              ...   \n",
       "2421            1.0          0.0           0.0              0.0   \n",
       "2422            1.0          0.0           0.0              0.0   \n",
       "2423            1.0          0.0           0.0              1.0   \n",
       "2424            1.0          0.0           0.0              0.0   \n",
       "2425            1.0          0.0           0.0              0.0   \n",
       "\n",
       "      ever_married_Yes  work_type_Govt_job  work_type_Never_worked  \\\n",
       "0                  1.0                 0.0                     0.0   \n",
       "1                  0.0                 0.0                     0.0   \n",
       "2                  1.0                 0.0                     0.0   \n",
       "3                  1.0                 0.0                     0.0   \n",
       "4                  1.0                 0.0                     0.0   \n",
       "...                ...                 ...                     ...   \n",
       "2421               1.0                 0.0                     0.0   \n",
       "2422               1.0                 0.0                     0.0   \n",
       "2423               0.0                 0.0                     0.0   \n",
       "2424               1.0                 0.0                     0.0   \n",
       "2425               1.0                 0.0                     0.0   \n",
       "\n",
       "      work_type_Private  work_type_Self-employed  work_type_children  \\\n",
       "0                   1.0                      0.0                 0.0   \n",
       "1                   1.0                      0.0                 0.0   \n",
       "2                   1.0                      0.0                 0.0   \n",
       "3                   1.0                      0.0                 0.0   \n",
       "4                   1.0                      0.0                 0.0   \n",
       "...                 ...                      ...                 ...   \n",
       "2421                1.0                      0.0                 0.0   \n",
       "2422                1.0                      0.0                 0.0   \n",
       "2423                0.0                      0.0                 1.0   \n",
       "2424                1.0                      0.0                 0.0   \n",
       "2425                0.0                      1.0                 0.0   \n",
       "\n",
       "      Residence_type_Rural  Residence_type_Urban  smoking_status_Unknown  \\\n",
       "0                      0.0                   1.0                     0.0   \n",
       "1                      0.0                   1.0                     0.0   \n",
       "2                      1.0                   0.0                     1.0   \n",
       "3                      0.0                   1.0                     1.0   \n",
       "4                      0.0                   1.0                     0.0   \n",
       "...                    ...                   ...                     ...   \n",
       "2421                   0.0                   1.0                     1.0   \n",
       "2422                   1.0                   0.0                     0.0   \n",
       "2423                   1.0                   0.0                     1.0   \n",
       "2424                   0.0                   1.0                     0.0   \n",
       "2425                   1.0                   0.0                     0.0   \n",
       "\n",
       "      smoking_status_formerly smoked  smoking_status_never smoked  \\\n",
       "0                                0.0                          0.0   \n",
       "1                                0.0                          1.0   \n",
       "2                                0.0                          0.0   \n",
       "3                                0.0                          0.0   \n",
       "4                                0.0                          0.0   \n",
       "...                              ...                          ...   \n",
       "2421                             0.0                          0.0   \n",
       "2422                             0.0                          1.0   \n",
       "2423                             0.0                          0.0   \n",
       "2424                             0.0                          1.0   \n",
       "2425                             0.0                          1.0   \n",
       "\n",
       "      smoking_status_smokes   age  hypertension  heart_disease  \\\n",
       "0                       1.0  49.0           0.0            0.0   \n",
       "1                       0.0  69.0           0.0            0.0   \n",
       "2                       0.0  59.0           0.0            0.0   \n",
       "3                       0.0  78.0           0.0            0.0   \n",
       "4                       1.0  54.0           0.0            0.0   \n",
       "...                     ...   ...           ...            ...   \n",
       "2421                    0.0  45.0           0.0            0.0   \n",
       "2422                    0.0  57.0           0.0            0.0   \n",
       "2423                    0.0  13.0           0.0            0.0   \n",
       "2424                    0.0  80.0           1.0            0.0   \n",
       "2425                    0.0  35.0           0.0            0.0   \n",
       "\n",
       "      avg_glucose_level    bmi  stroke  \n",
       "0                171.23  34.40     1.0  \n",
       "1                 94.39  22.80     1.0  \n",
       "2                 76.15  26.64     1.0  \n",
       "3                 58.57  24.20     1.0  \n",
       "4                104.51  27.30     1.0  \n",
       "...                 ...    ...     ...  \n",
       "2421              97.95  24.50     0.0  \n",
       "2422              77.93  21.70     0.0  \n",
       "2423             103.08  18.60     0.0  \n",
       "2424              83.75  27.84     0.0  \n",
       "2425              82.99  30.60     0.0  \n",
       "\n",
       "[2426 rows x 22 columns]"
      ]
     },
     "execution_count": 5,
     "metadata": {},
     "output_type": "execute_result"
    }
   ],
   "source": [
    "data_prepared = pipeline.fit_transform(data)\n",
    "# Get the OneHotEncoder from the pipeline\n",
    "one_hot_encoder = pipeline.named_steps['encode_cat'].named_transformers_['one_hot']\n",
    "\n",
    "# Get the feature names after one-hot encoding\n",
    "encoded_columns = one_hot_encoder.get_feature_names_out(input_features=data.select_dtypes(include=['object']).columns.tolist())\n",
    "\n",
    "# Concatenate encoded columns with numerical columns\n",
    "all_column_names = list(encoded_columns) + data.select_dtypes(exclude=['object']).columns.tolist()\n",
    "\n",
    "# Create DataFrame\n",
    "data_prepared_df = pd.DataFrame(data_prepared, columns=all_column_names)\n",
    "\n",
    "# Check the DataFrame\n",
    "data_prepared_df"
   ]
  },
  {
   "cell_type": "markdown",
   "id": "8948aad9-8d8d-4d64-97da-a64200a4283e",
   "metadata": {
    "id": "8948aad9-8d8d-4d64-97da-a64200a4283e"
   },
   "source": [
    "## Data split\n",
    "\n",
    "The data is split into training and test sets at an 80/20 ratio.\n",
    "\n",
    "The training set will be split further into training and validation sets during the model training stage, after upscaling and class balancing."
   ]
  },
  {
   "cell_type": "code",
   "execution_count": 6,
   "id": "49dc0905-aaa1-4a96-898e-70df877dda99",
   "metadata": {
    "id": "49dc0905-aaa1-4a96-898e-70df877dda99"
   },
   "outputs": [],
   "source": [
    "X = data_prepared_df.drop('stroke', axis=1)\n",
    "y = data_prepared_df['stroke']"
   ]
  },
  {
   "cell_type": "code",
   "execution_count": 7,
   "id": "50b07f8b-a97a-4ff7-b7c1-01ee45e94955",
   "metadata": {
    "id": "50b07f8b-a97a-4ff7-b7c1-01ee45e94955"
   },
   "outputs": [],
   "source": [
    "X_train, X_test, y_train, y_test = train_test_split(X, y, test_size=0.2, random_state=42)"
   ]
  },
  {
   "cell_type": "markdown",
   "id": "e03ac513-1989-4ff2-83e5-9424cfe70f0b",
   "metadata": {
    "id": "e03ac513-1989-4ff2-83e5-9424cfe70f0b"
   },
   "source": [
    "## Data Scaling"
   ]
  },
  {
   "cell_type": "code",
   "execution_count": 8,
   "id": "39ffeb6f-d18d-4ebc-b2db-fd8aabd6fb5a",
   "metadata": {
    "id": "39ffeb6f-d18d-4ebc-b2db-fd8aabd6fb5a"
   },
   "outputs": [],
   "source": [
    "# Define the columns to be scaled\n",
    "columns_to_scale = ['age', 'avg_glucose_level', 'bmi']\n",
    "\n",
    "# Create a ColumnTransformer to scale only the specified columns\n",
    "scaler = ColumnTransformer([\n",
    "    ('scaler', StandardScaler(), columns_to_scale)\n",
    "], remainder='passthrough')  # Remainder will keep the other columns unchanged\n",
    "\n",
    "# Fit and transform the training set\n",
    "X_train_scaled = scaler.fit_transform(X_train)\n",
    "\n",
    "# Transform the test set (using the scaler fitted on the training set)\n",
    "X_test_scaled = scaler.transform(X_test)"
   ]
  },
  {
   "cell_type": "code",
   "execution_count": 9,
   "id": "45f3184b-a7d1-4ef3-9b93-d00378c9e39e",
   "metadata": {
    "id": "45f3184b-a7d1-4ef3-9b93-d00378c9e39e"
   },
   "outputs": [],
   "source": [
    "feature_names = scaler.get_feature_names_out()\n",
    "\n",
    "# Create DataFrame with transformed data\n",
    "df_X_train_scaled = pd.DataFrame(X_train_scaled, columns=feature_names, index=X_train.index)\n",
    "df_X_test_scaled = pd.DataFrame(X_test_scaled, columns=feature_names, index=X_test.index)"
   ]
  },
  {
   "cell_type": "markdown",
   "id": "e028d7ef-9d63-4930-a76e-75ab61bc0dc1",
   "metadata": {
    "id": "e028d7ef-9d63-4930-a76e-75ab61bc0dc1"
   },
   "source": [
    "## Class balancing"
   ]
  },
  {
   "cell_type": "code",
   "execution_count": 10,
   "id": "67eec4fa-3cd3-456c-9740-cfec80ac4dd7",
   "metadata": {
    "colab": {
     "base_uri": "https://localhost:8080/"
    },
    "id": "67eec4fa-3cd3-456c-9740-cfec80ac4dd7",
    "outputId": "d1b05b5f-99a3-4d44-bd0c-020990bdd745"
   },
   "outputs": [
    {
     "data": {
      "text/plain": [
       "stroke\n",
       "0.0    1878\n",
       "1.0    1878\n",
       "Name: count, dtype: int64"
      ]
     },
     "execution_count": 10,
     "metadata": {},
     "output_type": "execute_result"
    }
   ],
   "source": [
    "train_data = pd.concat([df_X_train_scaled, y_train], axis=1)\n",
    "# Combine X_train and y_train into one DataFrame\n",
    "train_data = pd.concat([df_X_train_scaled, y_train], axis=1)\n",
    "\n",
    "# Separate majority and minority classes\n",
    "majority_class = train_data[train_data['stroke'] == 0]\n",
    "minority_class = train_data[train_data['stroke'] == 1]\n",
    "\n",
    "# Upsample minority class\n",
    "minority_upsampled = resample(minority_class,\n",
    "                               replace=True,     # Sample with replacement\n",
    "                               n_samples=len(majority_class),    # Match the number of samples in the majority class\n",
    "                               random_state=42)  # For reproducible results\n",
    "\n",
    "# Combine majority class with upsampled minority class\n",
    "upsampled_data = pd.concat([majority_class, minority_upsampled], axis=0)\n",
    "\n",
    "# Separate features and target variable in upsampled data\n",
    "X_train_upsampled = upsampled_data.drop('stroke', axis=1)\n",
    "y_train_upsampled = upsampled_data['stroke']\n",
    "\n",
    "# Display the class distribution\n",
    "y_train_upsampled.value_counts()"
   ]
  },
  {
   "cell_type": "markdown",
   "id": "38786da2-6577-411a-973d-815cda64566a",
   "metadata": {
    "id": "38786da2-6577-411a-973d-815cda64566a"
   },
   "source": [
    "## Data split test/validation set"
   ]
  },
  {
   "cell_type": "markdown",
   "id": "29c9cd1e-a152-4064-bee9-875bebb99451",
   "metadata": {
    "id": "29c9cd1e-a152-4064-bee9-875bebb99451"
   },
   "source": [
    "Let's split the train set in proportion to 60% for training and 20% for validation of the original data set."
   ]
  },
  {
   "cell_type": "code",
   "execution_count": 11,
   "id": "f6d5ca79-a22d-4362-a8e8-42a6851ac855",
   "metadata": {
    "id": "f6d5ca79-a22d-4362-a8e8-42a6851ac855"
   },
   "outputs": [],
   "source": [
    "X_train, X_val, y_train, y_val = train_test_split(X_train_upsampled, y_train_upsampled, test_size=0.25, random_state=42)"
   ]
  },
  {
   "cell_type": "markdown",
   "id": "f3a7b1d1-2e25-4d37-bd5e-05aec96f8741",
   "metadata": {
    "id": "f3a7b1d1-2e25-4d37-bd5e-05aec96f8741"
   },
   "source": [
    "### Initial Model Configuration"
   ]
  },
  {
   "cell_type": "markdown",
   "id": "113472a2-f36c-4d7c-9fe0-fef54e2872f2",
   "metadata": {
    "id": "113472a2-f36c-4d7c-9fe0-fef54e2872f2"
   },
   "source": [
    "#### Model Architecture\n",
    "The initial model is structured with a sequential setup consisting of five dense layers:\n",
    "- **Input Layer**: The first dense layer contains 256 neurons, using the ReLU activation function. The number of input neurons matches the number of features in the dataset to correctly process the input data.\n",
    "- **Hidden Layers**: Following the input, there are four more dense layers with decreasing numbers of neurons (128, 64, and 32), all using the ReLU activation function. These layers are designed to help the model learn increasingly complex patterns in the d.es.\n",
    "- **Output Layer**: The final layer is a single neuron with a sigmoid activation function, suited for binary classification. This setup outputs a probability, indicating the likelihood of a patient experiencing a stroke.\n",
    "\n",
    "#### Model Compilation\n",
    "- **Optimizer**: The Adam optimizer is employed with a very low learning rate of 0.00001. This cautious approach helps prevent the model from overshooting the optimal weights during training, ensuring more stable convergence.\n",
    "- **Loss Function**: `binary_crossentropy` is used, which is standard for binary classification problems.\n",
    "- **Metric**: Recall is the chosen metric, emphasizing the importance of minimizing false negatives. In the context of stroke prediction, missing a true positive is more detrimental than falsely identifying a patient at risk. Thus, prioritizing recall aims to capture as many true positive cases as possible."
   ]
  },
  {
   "cell_type": "code",
   "execution_count": 12,
   "id": "72039ac7-355d-4ed1-9d79-8dcd35d6ace8",
   "metadata": {
    "id": "72039ac7-355d-4ed1-9d79-8dcd35d6ace8"
   },
   "outputs": [],
   "source": [
    "# Define the model\n",
    "Initial_model = Sequential([\n",
    "    Dense(256, activation='relu', input_shape=(X_train_upsampled.shape[1],)),\n",
    "    Dense(128, activation='relu'),\n",
    "    Dense(64, activation='relu'),\n",
    "    Dense(32, activation='relu'),\n",
    "    Dense(1, activation='sigmoid')\n",
    "])\n",
    "\n",
    "# Compile the model\n",
    "Initial_model.compile(optimizer=Adam(learning_rate = 0.00001),\n",
    "              loss='binary_crossentropy',\n",
    "              metrics=['Recall'])"
   ]
  },
  {
   "cell_type": "markdown",
   "id": "0650a1b6-1a4b-40db-ac89-d4893d4aa6c0",
   "metadata": {
    "id": "0650a1b6-1a4b-40db-ac89-d4893d4aa6c0"
   },
   "source": [
    "#### Implementing Early Stopping\n",
    "\n",
    "Early stopping is a regularization technique used to avoid overfitting by terminating the training process if the model performance stops improving on a validation dataset.\n",
    "- **Monitor**: `val_loss` - The training process monitors the validation loss during each epoch. If the validation loss stops decreasing, it indicates that the model might start overfitting.\n",
    "- **Patience**: `5` - This parameter defines the number of epochs with no improvement after which training will be stopped. In this case, training will continue for 5 more epochs beyond the last epoch where a decrease in validation loss was observed."
   ]
  },
  {
   "cell_type": "code",
   "execution_count": 13,
   "id": "ebc8081e-ba28-47de-86b7-826f7c2569b4",
   "metadata": {
    "id": "ebc8081e-ba28-47de-86b7-826f7c2569b4"
   },
   "outputs": [],
   "source": [
    "# Early stopping callback\n",
    "stop_early = tf.keras.callbacks.EarlyStopping(monitor='val_loss', patience=5)"
   ]
  },
  {
   "cell_type": "code",
   "execution_count": 14,
   "id": "b6c8ba4f-6bdf-4e0e-9a18-da6c62674520",
   "metadata": {
    "colab": {
     "base_uri": "https://localhost:8080/"
    },
    "id": "b6c8ba4f-6bdf-4e0e-9a18-da6c62674520",
    "outputId": "10ea892d-0225-4496-b8c2-87e2cc485113"
   },
   "outputs": [
    {
     "name": "stdout",
     "output_type": "stream",
     "text": [
      "Epoch 1/60\n",
      "89/89 [==============================] - 1s 3ms/step - loss: 0.6869 - recall: 0.6904 - val_loss: 0.6820 - val_recall: 0.8277\n",
      "Epoch 2/60\n",
      "89/89 [==============================] - 0s 1ms/step - loss: 0.6757 - recall: 0.9036 - val_loss: 0.6717 - val_recall: 0.9732\n",
      "Epoch 3/60\n",
      "89/89 [==============================] - 0s 1ms/step - loss: 0.6649 - recall: 0.9658 - val_loss: 0.6620 - val_recall: 0.9732\n",
      "Epoch 4/60\n",
      "89/89 [==============================] - 0s 1ms/step - loss: 0.6545 - recall: 0.9706 - val_loss: 0.6517 - val_recall: 0.9732\n",
      "Epoch 5/60\n",
      "89/89 [==============================] - 0s 1ms/step - loss: 0.6431 - recall: 0.9504 - val_loss: 0.6402 - val_recall: 0.9575\n",
      "Epoch 6/60\n",
      "89/89 [==============================] - 0s 1ms/step - loss: 0.6310 - recall: 0.9343 - val_loss: 0.6284 - val_recall: 0.9329\n",
      "Epoch 7/60\n",
      "89/89 [==============================] - 0s 1ms/step - loss: 0.6188 - recall: 0.9015 - val_loss: 0.6161 - val_recall: 0.9105\n",
      "Epoch 8/60\n",
      "89/89 [==============================] - 0s 2ms/step - loss: 0.6061 - recall: 0.8931 - val_loss: 0.6038 - val_recall: 0.9105\n",
      "Epoch 9/60\n",
      "89/89 [==============================] - 0s 1ms/step - loss: 0.5931 - recall: 0.8910 - val_loss: 0.5914 - val_recall: 0.8971\n",
      "Epoch 10/60\n",
      "89/89 [==============================] - 0s 1ms/step - loss: 0.5799 - recall: 0.8826 - val_loss: 0.5787 - val_recall: 0.8971\n",
      "Epoch 11/60\n",
      "89/89 [==============================] - 0s 1ms/step - loss: 0.5667 - recall: 0.8721 - val_loss: 0.5658 - val_recall: 0.8747\n",
      "Epoch 12/60\n",
      "89/89 [==============================] - 0s 1ms/step - loss: 0.5539 - recall: 0.8498 - val_loss: 0.5538 - val_recall: 0.8434\n",
      "Epoch 13/60\n",
      "89/89 [==============================] - 0s 1ms/step - loss: 0.5417 - recall: 0.8421 - val_loss: 0.5425 - val_recall: 0.8434\n",
      "Epoch 14/60\n",
      "89/89 [==============================] - 0s 1ms/step - loss: 0.5304 - recall: 0.8421 - val_loss: 0.5318 - val_recall: 0.8434\n",
      "Epoch 15/60\n",
      "89/89 [==============================] - 0s 1ms/step - loss: 0.5196 - recall: 0.8421 - val_loss: 0.5217 - val_recall: 0.8434\n",
      "Epoch 16/60\n",
      "89/89 [==============================] - 0s 1ms/step - loss: 0.5095 - recall: 0.8421 - val_loss: 0.5125 - val_recall: 0.8434\n",
      "Epoch 17/60\n",
      "89/89 [==============================] - 0s 1ms/step - loss: 0.5002 - recall: 0.8421 - val_loss: 0.5042 - val_recall: 0.8434\n",
      "Epoch 18/60\n",
      "89/89 [==============================] - 0s 1ms/step - loss: 0.4918 - recall: 0.8421 - val_loss: 0.4969 - val_recall: 0.8434\n",
      "Epoch 19/60\n",
      "89/89 [==============================] - 0s 1ms/step - loss: 0.4845 - recall: 0.8421 - val_loss: 0.4906 - val_recall: 0.8434\n",
      "Epoch 20/60\n",
      "89/89 [==============================] - 0s 1ms/step - loss: 0.4778 - recall: 0.8421 - val_loss: 0.4847 - val_recall: 0.8434\n",
      "Epoch 21/60\n",
      "89/89 [==============================] - 0s 1ms/step - loss: 0.4718 - recall: 0.8421 - val_loss: 0.4796 - val_recall: 0.8434\n",
      "Epoch 22/60\n",
      "89/89 [==============================] - 0s 1ms/step - loss: 0.4669 - recall: 0.8435 - val_loss: 0.4756 - val_recall: 0.8434\n",
      "Epoch 23/60\n",
      "89/89 [==============================] - 0s 1ms/step - loss: 0.4624 - recall: 0.8553 - val_loss: 0.4717 - val_recall: 0.8747\n",
      "Epoch 24/60\n",
      "89/89 [==============================] - 0s 1ms/step - loss: 0.4582 - recall: 0.8288 - val_loss: 0.4678 - val_recall: 0.8233\n",
      "Epoch 25/60\n",
      "89/89 [==============================] - 0s 1ms/step - loss: 0.4544 - recall: 0.8498 - val_loss: 0.4651 - val_recall: 0.8747\n",
      "Epoch 26/60\n",
      "89/89 [==============================] - 0s 1ms/step - loss: 0.4511 - recall: 0.8616 - val_loss: 0.4621 - val_recall: 0.8546\n",
      "Epoch 27/60\n",
      "89/89 [==============================] - 0s 1ms/step - loss: 0.4477 - recall: 0.8498 - val_loss: 0.4590 - val_recall: 0.8546\n",
      "Epoch 28/60\n",
      "89/89 [==============================] - 0s 1ms/step - loss: 0.4448 - recall: 0.8491 - val_loss: 0.4563 - val_recall: 0.8546\n",
      "Epoch 29/60\n",
      "89/89 [==============================] - 0s 1ms/step - loss: 0.4420 - recall: 0.8491 - val_loss: 0.4542 - val_recall: 0.8546\n",
      "Epoch 30/60\n",
      "89/89 [==============================] - 0s 1ms/step - loss: 0.4394 - recall: 0.8491 - val_loss: 0.4521 - val_recall: 0.8546\n",
      "Epoch 31/60\n",
      "89/89 [==============================] - 0s 1ms/step - loss: 0.4368 - recall: 0.8491 - val_loss: 0.4501 - val_recall: 0.8546\n",
      "Epoch 32/60\n",
      "89/89 [==============================] - 0s 1ms/step - loss: 0.4344 - recall: 0.8491 - val_loss: 0.4479 - val_recall: 0.8546\n",
      "Epoch 33/60\n",
      "89/89 [==============================] - 0s 2ms/step - loss: 0.4322 - recall: 0.8442 - val_loss: 0.4460 - val_recall: 0.8546\n",
      "Epoch 34/60\n",
      "89/89 [==============================] - 0s 1ms/step - loss: 0.4300 - recall: 0.8491 - val_loss: 0.4440 - val_recall: 0.8546\n",
      "Epoch 35/60\n",
      "89/89 [==============================] - 0s 1ms/step - loss: 0.4278 - recall: 0.8393 - val_loss: 0.4421 - val_recall: 0.8546\n",
      "Epoch 36/60\n",
      "89/89 [==============================] - 0s 1ms/step - loss: 0.4257 - recall: 0.8442 - val_loss: 0.4400 - val_recall: 0.8546\n",
      "Epoch 37/60\n",
      "89/89 [==============================] - 0s 1ms/step - loss: 0.4235 - recall: 0.8421 - val_loss: 0.4385 - val_recall: 0.8546\n",
      "Epoch 38/60\n",
      "89/89 [==============================] - 0s 1ms/step - loss: 0.4217 - recall: 0.8491 - val_loss: 0.4370 - val_recall: 0.8546\n",
      "Epoch 39/60\n",
      "89/89 [==============================] - 0s 1ms/step - loss: 0.4195 - recall: 0.8463 - val_loss: 0.4351 - val_recall: 0.8546\n",
      "Epoch 40/60\n",
      "89/89 [==============================] - 0s 1ms/step - loss: 0.4174 - recall: 0.8491 - val_loss: 0.4331 - val_recall: 0.8546\n",
      "Epoch 41/60\n",
      "89/89 [==============================] - 0s 2ms/step - loss: 0.4154 - recall: 0.8442 - val_loss: 0.4314 - val_recall: 0.8367\n",
      "Epoch 42/60\n",
      "89/89 [==============================] - 0s 1ms/step - loss: 0.4134 - recall: 0.8463 - val_loss: 0.4298 - val_recall: 0.8367\n",
      "Epoch 43/60\n",
      "89/89 [==============================] - 0s 1ms/step - loss: 0.4116 - recall: 0.8365 - val_loss: 0.4288 - val_recall: 0.8770\n",
      "Epoch 44/60\n",
      "89/89 [==============================] - 0s 1ms/step - loss: 0.4100 - recall: 0.8581 - val_loss: 0.4271 - val_recall: 0.8591\n",
      "Epoch 45/60\n",
      "89/89 [==============================] - 0s 1ms/step - loss: 0.4080 - recall: 0.8491 - val_loss: 0.4253 - val_recall: 0.8591\n",
      "Epoch 46/60\n",
      "89/89 [==============================] - 0s 1ms/step - loss: 0.4063 - recall: 0.8637 - val_loss: 0.4237 - val_recall: 0.8770\n",
      "Epoch 47/60\n",
      "89/89 [==============================] - 0s 2ms/step - loss: 0.4044 - recall: 0.8644 - val_loss: 0.4221 - val_recall: 0.8770\n",
      "Epoch 48/60\n",
      "89/89 [==============================] - 0s 1ms/step - loss: 0.4026 - recall: 0.8623 - val_loss: 0.4202 - val_recall: 0.8591\n",
      "Epoch 49/60\n",
      "89/89 [==============================] - 0s 1ms/step - loss: 0.4007 - recall: 0.8623 - val_loss: 0.4187 - val_recall: 0.8591\n",
      "Epoch 50/60\n",
      "89/89 [==============================] - 0s 1ms/step - loss: 0.3989 - recall: 0.8526 - val_loss: 0.4173 - val_recall: 0.8770\n",
      "Epoch 51/60\n",
      "89/89 [==============================] - 0s 1ms/step - loss: 0.3971 - recall: 0.8637 - val_loss: 0.4156 - val_recall: 0.8591\n",
      "Epoch 52/60\n",
      "89/89 [==============================] - 0s 1ms/step - loss: 0.3953 - recall: 0.8491 - val_loss: 0.4140 - val_recall: 0.8591\n",
      "Epoch 53/60\n",
      "89/89 [==============================] - 0s 1ms/step - loss: 0.3935 - recall: 0.8532 - val_loss: 0.4126 - val_recall: 0.8591\n",
      "Epoch 54/60\n",
      "89/89 [==============================] - 0s 1ms/step - loss: 0.3917 - recall: 0.8491 - val_loss: 0.4111 - val_recall: 0.8591\n",
      "Epoch 55/60\n",
      "89/89 [==============================] - 0s 1ms/step - loss: 0.3899 - recall: 0.8491 - val_loss: 0.4099 - val_recall: 0.8591\n",
      "Epoch 56/60\n",
      "89/89 [==============================] - 0s 1ms/step - loss: 0.3881 - recall: 0.8491 - val_loss: 0.4080 - val_recall: 0.8591\n",
      "Epoch 57/60\n",
      "89/89 [==============================] - 0s 1ms/step - loss: 0.3863 - recall: 0.8491 - val_loss: 0.4065 - val_recall: 0.8591\n",
      "Epoch 58/60\n",
      "89/89 [==============================] - 0s 1ms/step - loss: 0.3846 - recall: 0.8491 - val_loss: 0.4049 - val_recall: 0.8591\n",
      "Epoch 59/60\n",
      "89/89 [==============================] - 0s 1ms/step - loss: 0.3827 - recall: 0.8491 - val_loss: 0.4033 - val_recall: 0.8591\n",
      "Epoch 60/60\n",
      "89/89 [==============================] - 0s 1ms/step - loss: 0.3812 - recall: 0.8491 - val_loss: 0.4016 - val_recall: 0.8591\n"
     ]
    }
   ],
   "source": [
    "# Train the model\n",
    "history = Initial_model.fit(X_train, y_train, epochs=60, validation_data=(X_val, y_val), callbacks=[stop_early])"
   ]
  },
  {
   "cell_type": "code",
   "execution_count": 15,
   "id": "9aad92f1-d1a2-49db-94f1-099a154a1928",
   "metadata": {
    "id": "9aad92f1-d1a2-49db-94f1-099a154a1928"
   },
   "outputs": [],
   "source": [
    "#Create function for plot a training history\n",
    "def plot_training_history(history):\n",
    "    # Convert the history.history dict to a pandas DataFrame\n",
    "    history_df = pd.DataFrame(history.history)\n",
    "\n",
    "    # Determine the maximum loss value for setting ylim\n",
    "    max_loss = history_df[['loss', 'val_loss']].max().max()  # Gets the highest loss value from both 'loss' and 'val_loss'\n",
    "    max_ylim = max_loss + max_loss * 0.1  # Adds a 10% margin to the maximum loss value for better visualization\n",
    "\n",
    "    # Define the style for each line\n",
    "    styles = [\"r--\", \"r--.\", \"b-\", \"b-*\"]  # Adjust based on actual metrics in history\n",
    "\n",
    "    # Plot the dataframe specifying style and legends\n",
    "    history_df.plot(\n",
    "        figsize=(8, 5),\n",
    "        xlim=[0, len(history_df) - 1],  # Adjust x limits to the number of epochs\n",
    "        ylim=[0, max_ylim],  # Adjust y limits according to the range of your metrics\n",
    "        grid=True,\n",
    "        xlabel=\"Epoch\",\n",
    "        style=styles\n",
    "    )\n",
    "\n",
    "    plt.legend(loc=\"lower left\")\n",
    "    plt.show()"
   ]
  },
  {
   "cell_type": "code",
   "execution_count": 16,
   "id": "d8be4b63-ee91-442a-91a8-8587ab26442c",
   "metadata": {
    "colab": {
     "base_uri": "https://localhost:8080/",
     "height": 470
    },
    "id": "d8be4b63-ee91-442a-91a8-8587ab26442c",
    "outputId": "c598d0a2-8b50-4d93-bcb4-bca40fdd9831"
   },
   "outputs": [
    {
     "data": {
      "image/png": "[encoded data removed]",
      "text/plain": [
       "<Figure size 800x500 with 1 Axes>"
      ]
     },
     "metadata": {},
     "output_type": "display_data"
    }
   ],
   "source": [
    "plot_training_history(history)"
   ]
  },
  {
   "cell_type": "markdown",
   "id": "603fbab6-4c8a-401c-938f-4b4c577056da",
   "metadata": {
    "id": "603fbab6-4c8a-401c-938f-4b4c577056da"
   },
   "source": [
    "#### Insights from the Plot:\n",
    "- The close proximity of the validation lines to the training lines suggests low variance and good generalization of the model.\n",
    "- The model's recall is high and stable, which is critical for the context of stroke prediction, where failing to detect a true case can have significant consequences."
   ]
  },
  {
   "cell_type": "code",
   "execution_count": 17,
   "id": "9a86b8b6-e7e2-47e0-ba00-44f88ad950cb",
   "metadata": {
    "colab": {
     "base_uri": "https://localhost:8080/"
    },
    "id": "9a86b8b6-e7e2-47e0-ba00-44f88ad950cb",
    "outputId": "46bcc71d-e04f-413a-bd7c-ab29e9a4ce77"
   },
   "outputs": [
    {
     "name": "stdout",
     "output_type": "stream",
     "text": [
      "16/16 [==============================] - 0s 997us/step - loss: 0.4693 - recall: 0.9091\n"
     ]
    }
   ],
   "source": [
    "# Evaluate the model on the test set\n",
    "test_loss, test_recall = Initial_model.evaluate(X_test_scaled, y_test)"
   ]
  },
  {
   "cell_type": "code",
   "execution_count": 18,
   "id": "70ec0a47-b0bb-4f87-98b7-fe8bb2a21cae",
   "metadata": {
    "id": "70ec0a47-b0bb-4f87-98b7-fe8bb2a21cae"
   },
   "outputs": [],
   "source": [
    "#Create function for plot a confusion Matrix\n",
    "def plot_confusion_matrix(model):\n",
    "\n",
    "    # Step 1: Make predictions\n",
    "    y_pred_probs = model.predict(X_test_scaled)\n",
    "\n",
    "    # Step 2: Convert probabilities to binary labels\n",
    "    y_pred = np.round(y_pred_probs).astype(int)\n",
    "\n",
    "    # Step 3: Generate the confusion matrix\n",
    "    cm = confusion_matrix(y_test, y_pred)\n",
    "\n",
    "    # Create the plot\n",
    "    fig, ax = plt.subplots()\n",
    "    cax = ax.matshow(cm, cmap=plt.cm.Reds)\n",
    "    fig.colorbar(cax)\n",
    "\n",
    "    # Set labels to be more informative\n",
    "    ax.set_xticklabels([''] + ['No Stroke', 'Stroke'])\n",
    "    ax.set_yticklabels([''] + ['No Stroke', 'Stroke'])\n",
    "\n",
    "    # Label axes\n",
    "    plt.xlabel('Predicted')\n",
    "    plt.ylabel('True Label')\n",
    "    plt.title('Confusion Matrix')\n",
    "\n",
    "    # Add text annotations\n",
    "    for (i, j), val in np.ndenumerate(cm):\n",
    "        plt.text(j, i, f'{val}', ha='center', va='center', color='black')\n",
    "\n",
    "    plt.show()\n"
   ]
  },
  {
   "cell_type": "code",
   "execution_count": 19,
   "id": "c7f9e9b7-5f24-480f-914c-5a475fb02eb6",
   "metadata": {
    "colab": {
     "base_uri": "https://localhost:8080/",
     "height": 564
    },
    "id": "c7f9e9b7-5f24-480f-914c-5a475fb02eb6",
    "outputId": "e230c49c-dfac-4163-c788-db1c6af178ec"
   },
   "outputs": [
    {
     "name": "stdout",
     "output_type": "stream",
     "text": [
      "16/16 [==============================] - 0s 865us/step\n"
     ]
    },
    {
     "name": "stderr",
     "output_type": "stream",
     "text": [
      "C:\\Users\\Vlad\\AppData\\Local\\Temp\\ipykernel_20404\\1237922436.py:19: UserWarning: set_ticklabels() should only be used with a fixed number of ticks, i.e. after set_ticks() or using a FixedLocator.\n",
      "  ax.set_xticklabels([''] + ['No Stroke', 'Stroke'])\n",
      "C:\\Users\\Vlad\\AppData\\Local\\Temp\\ipykernel_20404\\1237922436.py:20: UserWarning: set_ticklabels() should only be used with a fixed number of ticks, i.e. after set_ticks() or using a FixedLocator.\n",
      "  ax.set_yticklabels([''] + ['No Stroke', 'Stroke'])\n"
     ]
    },
    {
     "data": {
      "image/png": "[encoded data removed]",
      "text/plain": [
       "<Figure size 640x480 with 2 Axes>"
      ]
     },
     "metadata": {},
     "output_type": "display_data"
    }
   ],
   "source": [
    "plot_confusion_matrix(Initial_model)"
   ]
  },
  {
   "cell_type": "code",
   "execution_count": 20,
   "id": "750667d8-0621-4788-8798-3d01b54850a8",
   "metadata": {
    "id": "750667d8-0621-4788-8798-3d01b54850a8"
   },
   "outputs": [],
   "source": [
    "# Create a DataFrame to store model metrics\n",
    "df_models = pd.DataFrame(columns=[\"Model\", \"Accuracy\", \"Recall\", \"Precision\", \"F1\"])"
   ]
  },
  {
   "cell_type": "code",
   "execution_count": 21,
   "id": "e30e045a-eda7-4f16-8d34-8a3be81b2a28",
   "metadata": {
    "id": "e30e045a-eda7-4f16-8d34-8a3be81b2a28"
   },
   "outputs": [],
   "source": [
    "\n",
    "def update_model_metrics(model, model_name):\n",
    "    # Make predictions\n",
    "    y_pred_probs = model.predict(X_test_scaled)\n",
    "    y_pred = np.round(y_pred_probs).astype(int)\n",
    "\n",
    "    # Calculate metrics\n",
    "    test_accuracy = accuracy_score(y_test, y_pred)\n",
    "    test_recall = recall_score(y_test, y_pred, zero_division=0)\n",
    "    test_precision = precision_score(y_test, y_pred, zero_division=0)\n",
    "    test_f1 = f1_score(y_test, y_pred, zero_division=0)\n",
    "\n",
    "    # Data for the new model\n",
    "    new_data = pd.DataFrame([{\n",
    "        \"Model\": model_name,  \n",
    "        \"Accuracy\": test_accuracy,\n",
    "        \"Recall\": test_recall,\n",
    "        \"Precision\": test_precision,\n",
    "        \"F1\": test_f1\n",
    "    }])\n",
    "    return new_data"
   ]
  },
  {
   "cell_type": "code",
   "execution_count": 22,
   "id": "65fac278-ca76-444f-ae03-6dbf15b51b03",
   "metadata": {
    "colab": {
     "base_uri": "https://localhost:8080/",
     "height": 106
    },
    "id": "65fac278-ca76-444f-ae03-6dbf15b51b03",
    "outputId": "7804760c-2045-45f4-ade9-af268d85d872"
   },
   "outputs": [
    {
     "name": "stdout",
     "output_type": "stream",
     "text": [
      "16/16 [==============================] - 0s 821us/step\n"
     ]
    },
    {
     "name": "stderr",
     "output_type": "stream",
     "text": [
      "C:\\Users\\Vlad\\AppData\\Local\\Temp\\ipykernel_20404\\3631389167.py:2: FutureWarning: The behavior of DataFrame concatenation with empty or all-NA entries is deprecated. In a future version, this will no longer exclude empty or all-NA columns when determining the result dtypes. To retain the old behavior, exclude the relevant entries before the concat operation.\n",
      "  df_models = pd.concat([df_models, new_data], ignore_index=True)\n"
     ]
    },
    {
     "data": {
      "text/html": [
       "<div>\n",
       "<style scoped>\n",
       "    .dataframe tbody tr th:only-of-type {\n",
       "        vertical-align: middle;\n",
       "    }\n",
       "\n",
       "    .dataframe tbody tr th {\n",
       "        vertical-align: top;\n",
       "    }\n",
       "\n",
       "    .dataframe thead th {\n",
       "        text-align: right;\n",
       "    }\n",
       "</style>\n",
       "<table border=\"1\" class=\"dataframe\">\n",
       "  <thead>\n",
       "    <tr style=\"text-align: right;\">\n",
       "      <th></th>\n",
       "      <th>Model</th>\n",
       "      <th>Accuracy</th>\n",
       "      <th>Recall</th>\n",
       "      <th>Precision</th>\n",
       "      <th>F1</th>\n",
       "    </tr>\n",
       "  </thead>\n",
       "  <tbody>\n",
       "    <tr>\n",
       "      <th>0</th>\n",
       "      <td>Initial Model</td>\n",
       "      <td>0.736626</td>\n",
       "      <td>0.909091</td>\n",
       "      <td>0.072993</td>\n",
       "      <td>0.135135</td>\n",
       "    </tr>\n",
       "  </tbody>\n",
       "</table>\n",
       "</div>"
      ],
      "text/plain": [
       "           Model  Accuracy    Recall  Precision        F1\n",
       "0  Initial Model  0.736626  0.909091   0.072993  0.135135"
      ]
     },
     "execution_count": 22,
     "metadata": {},
     "output_type": "execute_result"
    }
   ],
   "source": [
    "new_data = update_model_metrics(Initial_model, \"Initial Model\")\n",
    "df_models = pd.concat([df_models, new_data], ignore_index=True)\n",
    "df_models"
   ]
  },
  {
   "cell_type": "markdown",
   "id": "dcf7aff1-e210-47ec-97e1-894e06a83ffd",
   "metadata": {
    "id": "dcf7aff1-e210-47ec-97e1-894e06a83ffd"
   },
   "source": [
    "#### Interpretation:\n",
    "- The significant number of False Positives indicates a tendency of the model to over-predict the 'Stroke' class, which could be a result of trying to optimize for recall.\n",
    "- The low number of False Negatives (1) aligns with the priority for high recall in medical diagnostics, as the cost of missing a true 'Stroke' case is potentially very high.\n",
    "- The matrix suggests that while the model is effective at identifying 'No Stroke' cases, it requires further tuning to reduce the number of False Positives without significantly increasing the False Negatives."
   ]
  },
  {
   "cell_type": "markdown",
   "id": "0537f1ce-d6fc-4450-8249-6a40f1b1f78d",
   "metadata": {
    "id": "0537f1ce-d6fc-4450-8249-6a40f1b1f78d"
   },
   "source": [
    "#### Observations and Next Steps:\n",
    "The initial model demonstrates a reasonable starting point, particularly in terms of recall. However, the model tends to overfit, as indicated by the discrepancy between training and validation metrics during experimentation. To further enhance the model's performance, especially in improving the precision metric, efforts will focus on reducing the number of false positives.To mitigate this, various combinations of normalization and regularization parameters were evaluated in subsequent experiments."
   ]
  },
  {
   "cell_type": "markdown",
   "id": "a133d9ee-e9e0-4114-ad47-3d1aa14b7ebb",
   "metadata": {
    "id": "a133d9ee-e9e0-4114-ad47-3d1aa14b7ebb"
   },
   "source": [
    "#### Behind the scene:\n",
    "A diverse range of epochs and learning rates were trialed to optimize performance. A cutoff at 60 epochs was established since the model began to overfit beyond this point. Similarly, the learning rate was fine-tuned to maximize the model's results without contributing to overfitting."
   ]
  },
  {
   "cell_type": "markdown",
   "id": "32985bce-0a9a-4494-8ecf-dba0fb76f4aa",
   "metadata": {
    "id": "32985bce-0a9a-4494-8ecf-dba0fb76f4aa"
   },
   "source": [
    "In the next section, we will explore how different strategies like dropout layers, L2 regularization, and batch normalization can improve the model's ability to generalize, with the aim of enhancing the precision without compromising the recall significantly."
   ]
  },
  {
   "cell_type": "markdown",
   "id": "0ef686ea-0cce-4cd0-a377-b94c4abcfa05",
   "metadata": {
    "id": "0ef686ea-0cce-4cd0-a377-b94c4abcfa05"
   },
   "source": [
    "### Implementing Dropout for Regularization"
   ]
  },
  {
   "cell_type": "markdown",
   "id": "a6a11b58-d330-40e5-8ae6-68b290eeea35",
   "metadata": {
    "id": "a6a11b58-d330-40e5-8ae6-68b290eeea35"
   },
   "source": [
    "Dropout is a regularization technique used to prevent overfitting in neural networks. It does so by randomly 'dropping out' (i.e., setting to zero) a number of output features of the layer during training. By doing this, it forces the network to learn more robust features that are useful in conjunction with many different random subsets of the other neurons."
   ]
  },
  {
   "cell_type": "markdown",
   "id": "2cab5c5a-f403-48e0-ac93-a2a434017dcc",
   "metadata": {
    "id": "2cab5c5a-f403-48e0-ac93-a2a434017dcc"
   },
   "source": [
    "#### Configuration of the Dropout Layers\n",
    "In this model variant, dropout layers are added to introduce regularization:\n",
    "- A dropout rate of 20% after the first and second dense layers.\n",
    "- A dropout rate of 10% after the third dense layer."
   ]
  },
  {
   "cell_type": "code",
   "execution_count": 23,
   "id": "78131698-a4d8-4567-b2ff-3d2fce0eace8",
   "metadata": {
    "id": "78131698-a4d8-4567-b2ff-3d2fce0eace8"
   },
   "outputs": [],
   "source": [
    "modelDR = Sequential([\n",
    "    Dense(256, activation='relu', input_shape=(X_train_upsampled.shape[1],)),\n",
    "    Dropout(0.2), \n",
    "    Dense(128, activation='relu'),\n",
    "    Dropout(0.2),\n",
    "    Dense(64, activation='relu'),\n",
    "    Dropout(0.1),\n",
    "    Dense(32, activation='relu'),\n",
    "    Dense(1, activation='sigmoid')\n",
    "])\n",
    "modelDR.compile(optimizer=Adam(learning_rate=0.00001),\n",
    "              loss='binary_crossentropy',\n",
    "              metrics=['Recall'])"
   ]
  },
  {
   "cell_type": "code",
   "execution_count": 24,
   "id": "4b23e488-da3c-4c0b-9e20-2523f9467125",
   "metadata": {
    "colab": {
     "base_uri": "https://localhost:8080/"
    },
    "id": "4b23e488-da3c-4c0b-9e20-2523f9467125",
    "outputId": "a519e5b1-bc45-41c8-d3ef-8eda89c8ab1e"
   },
   "outputs": [
    {
     "name": "stdout",
     "output_type": "stream",
     "text": [
      "Epoch 1/120\n",
      "89/89 [==============================] - 1s 4ms/step - loss: 0.7002 - recall: 0.9986 - val_loss: 0.6975 - val_recall: 1.0000\n",
      "Epoch 2/120\n",
      "89/89 [==============================] - 0s 2ms/step - loss: 0.6912 - recall: 1.0000 - val_loss: 0.6888 - val_recall: 1.0000\n",
      "Epoch 3/120\n",
      "89/89 [==============================] - 0s 2ms/step - loss: 0.6828 - recall: 0.9979 - val_loss: 0.6810 - val_recall: 1.0000\n",
      "Epoch 4/120\n",
      "89/89 [==============================] - 0s 2ms/step - loss: 0.6764 - recall: 0.9979 - val_loss: 0.6739 - val_recall: 1.0000\n",
      "Epoch 5/120\n",
      "89/89 [==============================] - 0s 2ms/step - loss: 0.6703 - recall: 0.9979 - val_loss: 0.6672 - val_recall: 1.0000\n",
      "Epoch 6/120\n",
      "89/89 [==============================] - 0s 2ms/step - loss: 0.6631 - recall: 0.9951 - val_loss: 0.6607 - val_recall: 1.0000\n",
      "Epoch 7/120\n",
      "89/89 [==============================] - 0s 2ms/step - loss: 0.6586 - recall: 0.9965 - val_loss: 0.6544 - val_recall: 1.0000\n",
      "Epoch 8/120\n",
      "89/89 [==============================] - 0s 2ms/step - loss: 0.6532 - recall: 0.9909 - val_loss: 0.6487 - val_recall: 1.0000\n",
      "Epoch 9/120\n",
      "89/89 [==============================] - 0s 2ms/step - loss: 0.6459 - recall: 0.9909 - val_loss: 0.6430 - val_recall: 1.0000\n",
      "Epoch 10/120\n",
      "89/89 [==============================] - 0s 2ms/step - loss: 0.6398 - recall: 0.9860 - val_loss: 0.6371 - val_recall: 0.9866\n",
      "Epoch 11/120\n",
      "89/89 [==============================] - 0s 2ms/step - loss: 0.6351 - recall: 0.9839 - val_loss: 0.6314 - val_recall: 0.9866\n",
      "Epoch 12/120\n",
      "89/89 [==============================] - 0s 2ms/step - loss: 0.6300 - recall: 0.9832 - val_loss: 0.6254 - val_recall: 0.9597\n",
      "Epoch 13/120\n",
      "89/89 [==============================] - 0s 2ms/step - loss: 0.6230 - recall: 0.9727 - val_loss: 0.6197 - val_recall: 0.9597\n",
      "Epoch 14/120\n",
      "89/89 [==============================] - 0s 2ms/step - loss: 0.6169 - recall: 0.9720 - val_loss: 0.6142 - val_recall: 0.9597\n",
      "Epoch 15/120\n",
      "89/89 [==============================] - 0s 2ms/step - loss: 0.6134 - recall: 0.9602 - val_loss: 0.6088 - val_recall: 0.9508\n",
      "Epoch 16/120\n",
      "89/89 [==============================] - 0s 2ms/step - loss: 0.6057 - recall: 0.9532 - val_loss: 0.6033 - val_recall: 0.9396\n",
      "Epoch 17/120\n",
      "89/89 [==============================] - 0s 2ms/step - loss: 0.5990 - recall: 0.9371 - val_loss: 0.5981 - val_recall: 0.9038\n",
      "Epoch 18/120\n",
      "89/89 [==============================] - 0s 2ms/step - loss: 0.5976 - recall: 0.9343 - val_loss: 0.5931 - val_recall: 0.9038\n",
      "Epoch 19/120\n",
      "89/89 [==============================] - 0s 2ms/step - loss: 0.5914 - recall: 0.9210 - val_loss: 0.5883 - val_recall: 0.9038\n",
      "Epoch 20/120\n",
      "89/89 [==============================] - 0s 2ms/step - loss: 0.5821 - recall: 0.9113 - val_loss: 0.5832 - val_recall: 0.8926\n",
      "Epoch 21/120\n",
      "89/89 [==============================] - 0s 2ms/step - loss: 0.5810 - recall: 0.8973 - val_loss: 0.5784 - val_recall: 0.8926\n",
      "Epoch 22/120\n",
      "89/89 [==============================] - 0s 2ms/step - loss: 0.5753 - recall: 0.8847 - val_loss: 0.5736 - val_recall: 0.8770\n",
      "Epoch 23/120\n",
      "89/89 [==============================] - 0s 2ms/step - loss: 0.5700 - recall: 0.8770 - val_loss: 0.5688 - val_recall: 0.8770\n",
      "Epoch 24/120\n",
      "89/89 [==============================] - 0s 2ms/step - loss: 0.5665 - recall: 0.8623 - val_loss: 0.5640 - val_recall: 0.8322\n",
      "Epoch 25/120\n",
      "89/89 [==============================] - 0s 2ms/step - loss: 0.5589 - recall: 0.8616 - val_loss: 0.5594 - val_recall: 0.8322\n",
      "Epoch 26/120\n",
      "89/89 [==============================] - 0s 2ms/step - loss: 0.5566 - recall: 0.8323 - val_loss: 0.5547 - val_recall: 0.8121\n",
      "Epoch 27/120\n",
      "89/89 [==============================] - 0s 2ms/step - loss: 0.5545 - recall: 0.8281 - val_loss: 0.5502 - val_recall: 0.8121\n",
      "Epoch 28/120\n",
      "89/89 [==============================] - 0s 2ms/step - loss: 0.5479 - recall: 0.8344 - val_loss: 0.5457 - val_recall: 0.8121\n",
      "Epoch 29/120\n",
      "89/89 [==============================] - 0s 2ms/step - loss: 0.5394 - recall: 0.8239 - val_loss: 0.5412 - val_recall: 0.7897\n",
      "Epoch 30/120\n",
      "89/89 [==============================] - 0s 2ms/step - loss: 0.5395 - recall: 0.8295 - val_loss: 0.5368 - val_recall: 0.7897\n",
      "Epoch 31/120\n",
      "89/89 [==============================] - 0s 2ms/step - loss: 0.5327 - recall: 0.8190 - val_loss: 0.5322 - val_recall: 0.7897\n",
      "Epoch 32/120\n",
      "89/89 [==============================] - 0s 2ms/step - loss: 0.5267 - recall: 0.8127 - val_loss: 0.5280 - val_recall: 0.7718\n",
      "Epoch 33/120\n",
      "89/89 [==============================] - 0s 2ms/step - loss: 0.5243 - recall: 0.8113 - val_loss: 0.5237 - val_recall: 0.7718\n",
      "Epoch 34/120\n",
      "89/89 [==============================] - 0s 2ms/step - loss: 0.5194 - recall: 0.7959 - val_loss: 0.5196 - val_recall: 0.7718\n",
      "Epoch 35/120\n",
      "89/89 [==============================] - 0s 2ms/step - loss: 0.5172 - recall: 0.7862 - val_loss: 0.5157 - val_recall: 0.7718\n",
      "Epoch 36/120\n",
      "89/89 [==============================] - 0s 2ms/step - loss: 0.5117 - recall: 0.7904 - val_loss: 0.5119 - val_recall: 0.7718\n",
      "Epoch 37/120\n",
      "89/89 [==============================] - 0s 2ms/step - loss: 0.5064 - recall: 0.7897 - val_loss: 0.5081 - val_recall: 0.7718\n",
      "Epoch 38/120\n",
      "89/89 [==============================] - 0s 2ms/step - loss: 0.5028 - recall: 0.7897 - val_loss: 0.5045 - val_recall: 0.7472\n",
      "Epoch 39/120\n",
      "89/89 [==============================] - 0s 2ms/step - loss: 0.4986 - recall: 0.7945 - val_loss: 0.5011 - val_recall: 0.7472\n",
      "Epoch 40/120\n",
      "89/89 [==============================] - 0s 2ms/step - loss: 0.4991 - recall: 0.7841 - val_loss: 0.4978 - val_recall: 0.7472\n",
      "Epoch 41/120\n",
      "89/89 [==============================] - 0s 2ms/step - loss: 0.4958 - recall: 0.7778 - val_loss: 0.4944 - val_recall: 0.7472\n",
      "Epoch 42/120\n",
      "89/89 [==============================] - 0s 2ms/step - loss: 0.4916 - recall: 0.7806 - val_loss: 0.4916 - val_recall: 0.7472\n",
      "Epoch 43/120\n",
      "89/89 [==============================] - 0s 2ms/step - loss: 0.4897 - recall: 0.7799 - val_loss: 0.4885 - val_recall: 0.7338\n",
      "Epoch 44/120\n",
      "89/89 [==============================] - 0s 2ms/step - loss: 0.4901 - recall: 0.7764 - val_loss: 0.4861 - val_recall: 0.7338\n",
      "Epoch 45/120\n",
      "89/89 [==============================] - 0s 2ms/step - loss: 0.4837 - recall: 0.7806 - val_loss: 0.4837 - val_recall: 0.7338\n",
      "Epoch 46/120\n",
      "89/89 [==============================] - 0s 2ms/step - loss: 0.4826 - recall: 0.7778 - val_loss: 0.4811 - val_recall: 0.7338\n",
      "Epoch 47/120\n",
      "89/89 [==============================] - 0s 2ms/step - loss: 0.4813 - recall: 0.7792 - val_loss: 0.4787 - val_recall: 0.7338\n",
      "Epoch 48/120\n",
      "89/89 [==============================] - 0s 2ms/step - loss: 0.4772 - recall: 0.7638 - val_loss: 0.4765 - val_recall: 0.7338\n",
      "Epoch 49/120\n",
      "89/89 [==============================] - 0s 2ms/step - loss: 0.4737 - recall: 0.7715 - val_loss: 0.4743 - val_recall: 0.7338\n",
      "Epoch 50/120\n",
      "89/89 [==============================] - 0s 2ms/step - loss: 0.4727 - recall: 0.7764 - val_loss: 0.4726 - val_recall: 0.7562\n",
      "Epoch 51/120\n",
      "89/89 [==============================] - 0s 2ms/step - loss: 0.4727 - recall: 0.7708 - val_loss: 0.4710 - val_recall: 0.7562\n",
      "Epoch 52/120\n",
      "89/89 [==============================] - 0s 2ms/step - loss: 0.4727 - recall: 0.7820 - val_loss: 0.4692 - val_recall: 0.7562\n",
      "Epoch 53/120\n",
      "89/89 [==============================] - 0s 2ms/step - loss: 0.4670 - recall: 0.7715 - val_loss: 0.4673 - val_recall: 0.7562\n",
      "Epoch 54/120\n",
      "89/89 [==============================] - 0s 2ms/step - loss: 0.4612 - recall: 0.7771 - val_loss: 0.4656 - val_recall: 0.7562\n",
      "Epoch 55/120\n",
      "89/89 [==============================] - 0s 2ms/step - loss: 0.4647 - recall: 0.7799 - val_loss: 0.4638 - val_recall: 0.7562\n",
      "Epoch 56/120\n",
      "89/89 [==============================] - 0s 2ms/step - loss: 0.4638 - recall: 0.7771 - val_loss: 0.4624 - val_recall: 0.7562\n",
      "Epoch 57/120\n",
      "89/89 [==============================] - 0s 2ms/step - loss: 0.4590 - recall: 0.7785 - val_loss: 0.4607 - val_recall: 0.7562\n",
      "Epoch 58/120\n",
      "89/89 [==============================] - 0s 2ms/step - loss: 0.4550 - recall: 0.7820 - val_loss: 0.4594 - val_recall: 0.7562\n",
      "Epoch 59/120\n",
      "89/89 [==============================] - 0s 2ms/step - loss: 0.4634 - recall: 0.7743 - val_loss: 0.4580 - val_recall: 0.7562\n",
      "Epoch 60/120\n",
      "89/89 [==============================] - 0s 2ms/step - loss: 0.4533 - recall: 0.7799 - val_loss: 0.4565 - val_recall: 0.7562\n",
      "Epoch 61/120\n",
      "89/89 [==============================] - 0s 2ms/step - loss: 0.4567 - recall: 0.7785 - val_loss: 0.4552 - val_recall: 0.7562\n",
      "Epoch 62/120\n",
      "89/89 [==============================] - 0s 2ms/step - loss: 0.4528 - recall: 0.7757 - val_loss: 0.4536 - val_recall: 0.7562\n",
      "Epoch 63/120\n",
      "89/89 [==============================] - 0s 2ms/step - loss: 0.4501 - recall: 0.7799 - val_loss: 0.4526 - val_recall: 0.7562\n",
      "Epoch 64/120\n",
      "89/89 [==============================] - 0s 2ms/step - loss: 0.4530 - recall: 0.7813 - val_loss: 0.4514 - val_recall: 0.7562\n",
      "Epoch 65/120\n",
      "89/89 [==============================] - 0s 2ms/step - loss: 0.4526 - recall: 0.7673 - val_loss: 0.4502 - val_recall: 0.7562\n",
      "Epoch 66/120\n",
      "89/89 [==============================] - 0s 2ms/step - loss: 0.4522 - recall: 0.7827 - val_loss: 0.4489 - val_recall: 0.7562\n",
      "Epoch 67/120\n",
      "89/89 [==============================] - 0s 2ms/step - loss: 0.4479 - recall: 0.7750 - val_loss: 0.4479 - val_recall: 0.7562\n",
      "Epoch 68/120\n",
      "89/89 [==============================] - 0s 2ms/step - loss: 0.4494 - recall: 0.7722 - val_loss: 0.4468 - val_recall: 0.7562\n",
      "Epoch 69/120\n",
      "89/89 [==============================] - 0s 2ms/step - loss: 0.4502 - recall: 0.7855 - val_loss: 0.4456 - val_recall: 0.7875\n",
      "Epoch 70/120\n",
      "89/89 [==============================] - 0s 2ms/step - loss: 0.4474 - recall: 0.7841 - val_loss: 0.4444 - val_recall: 0.7875\n",
      "Epoch 71/120\n",
      "89/89 [==============================] - 0s 2ms/step - loss: 0.4465 - recall: 0.7862 - val_loss: 0.4434 - val_recall: 0.7875\n",
      "Epoch 72/120\n",
      "89/89 [==============================] - 0s 2ms/step - loss: 0.4462 - recall: 0.7869 - val_loss: 0.4423 - val_recall: 0.7875\n",
      "Epoch 73/120\n",
      "89/89 [==============================] - 0s 2ms/step - loss: 0.4409 - recall: 0.7973 - val_loss: 0.4408 - val_recall: 0.7875\n",
      "Epoch 74/120\n",
      "89/89 [==============================] - 0s 2ms/step - loss: 0.4460 - recall: 0.7834 - val_loss: 0.4399 - val_recall: 0.7875\n",
      "Epoch 75/120\n",
      "89/89 [==============================] - 0s 2ms/step - loss: 0.4411 - recall: 0.7987 - val_loss: 0.4388 - val_recall: 0.7875\n",
      "Epoch 76/120\n",
      "89/89 [==============================] - 0s 2ms/step - loss: 0.4426 - recall: 0.7987 - val_loss: 0.4377 - val_recall: 0.7875\n",
      "Epoch 77/120\n",
      "89/89 [==============================] - 0s 2ms/step - loss: 0.4363 - recall: 0.7932 - val_loss: 0.4366 - val_recall: 0.7875\n",
      "Epoch 78/120\n",
      "89/89 [==============================] - 0s 2ms/step - loss: 0.4391 - recall: 0.8029 - val_loss: 0.4357 - val_recall: 0.7875\n",
      "Epoch 79/120\n",
      "89/89 [==============================] - 0s 2ms/step - loss: 0.4335 - recall: 0.8064 - val_loss: 0.4347 - val_recall: 0.7875\n",
      "Epoch 80/120\n",
      "89/89 [==============================] - 0s 2ms/step - loss: 0.4301 - recall: 0.8183 - val_loss: 0.4334 - val_recall: 0.7875\n",
      "Epoch 81/120\n",
      "89/89 [==============================] - 0s 2ms/step - loss: 0.4341 - recall: 0.8008 - val_loss: 0.4327 - val_recall: 0.7875\n",
      "Epoch 82/120\n",
      "89/89 [==============================] - 0s 2ms/step - loss: 0.4337 - recall: 0.8015 - val_loss: 0.4317 - val_recall: 0.7875\n",
      "Epoch 83/120\n",
      "89/89 [==============================] - 0s 2ms/step - loss: 0.4353 - recall: 0.8029 - val_loss: 0.4305 - val_recall: 0.7875\n",
      "Epoch 84/120\n",
      "89/89 [==============================] - 0s 2ms/step - loss: 0.4305 - recall: 0.7939 - val_loss: 0.4294 - val_recall: 0.7875\n",
      "Epoch 85/120\n",
      "89/89 [==============================] - 0s 2ms/step - loss: 0.4290 - recall: 0.8022 - val_loss: 0.4283 - val_recall: 0.7875\n",
      "Epoch 86/120\n",
      "89/89 [==============================] - 0s 2ms/step - loss: 0.4326 - recall: 0.7994 - val_loss: 0.4273 - val_recall: 0.7875\n",
      "Epoch 87/120\n",
      "89/89 [==============================] - 0s 2ms/step - loss: 0.4288 - recall: 0.8015 - val_loss: 0.4262 - val_recall: 0.7875\n",
      "Epoch 88/120\n",
      "89/89 [==============================] - 0s 2ms/step - loss: 0.4310 - recall: 0.8099 - val_loss: 0.4253 - val_recall: 0.7875\n",
      "Epoch 89/120\n",
      "89/89 [==============================] - 0s 2ms/step - loss: 0.4243 - recall: 0.8148 - val_loss: 0.4242 - val_recall: 0.7875\n",
      "Epoch 90/120\n",
      "89/89 [==============================] - 0s 2ms/step - loss: 0.4235 - recall: 0.8113 - val_loss: 0.4233 - val_recall: 0.7875\n",
      "Epoch 91/120\n",
      "89/89 [==============================] - 0s 2ms/step - loss: 0.4218 - recall: 0.8197 - val_loss: 0.4220 - val_recall: 0.7875\n",
      "Epoch 92/120\n",
      "89/89 [==============================] - 0s 2ms/step - loss: 0.4246 - recall: 0.8008 - val_loss: 0.4211 - val_recall: 0.7875\n",
      "Epoch 93/120\n",
      "89/89 [==============================] - 0s 2ms/step - loss: 0.4252 - recall: 0.8162 - val_loss: 0.4200 - val_recall: 0.7875\n",
      "Epoch 94/120\n",
      "89/89 [==============================] - 0s 2ms/step - loss: 0.4232 - recall: 0.8204 - val_loss: 0.4190 - val_recall: 0.7875\n",
      "Epoch 95/120\n",
      "89/89 [==============================] - 0s 2ms/step - loss: 0.4189 - recall: 0.8141 - val_loss: 0.4179 - val_recall: 0.7875\n",
      "Epoch 96/120\n",
      "89/89 [==============================] - 0s 2ms/step - loss: 0.4184 - recall: 0.8099 - val_loss: 0.4170 - val_recall: 0.7875\n",
      "Epoch 97/120\n",
      "89/89 [==============================] - 0s 2ms/step - loss: 0.4169 - recall: 0.8204 - val_loss: 0.4158 - val_recall: 0.7875\n",
      "Epoch 98/120\n",
      "89/89 [==============================] - 0s 2ms/step - loss: 0.4181 - recall: 0.8148 - val_loss: 0.4148 - val_recall: 0.7875\n",
      "Epoch 99/120\n",
      "89/89 [==============================] - 0s 2ms/step - loss: 0.4176 - recall: 0.8183 - val_loss: 0.4140 - val_recall: 0.7875\n",
      "Epoch 100/120\n",
      "89/89 [==============================] - 0s 2ms/step - loss: 0.4228 - recall: 0.8190 - val_loss: 0.4130 - val_recall: 0.8121\n",
      "Epoch 101/120\n",
      "89/89 [==============================] - 0s 2ms/step - loss: 0.4151 - recall: 0.8225 - val_loss: 0.4122 - val_recall: 0.8121\n",
      "Epoch 102/120\n",
      "89/89 [==============================] - 0s 2ms/step - loss: 0.4139 - recall: 0.8120 - val_loss: 0.4114 - val_recall: 0.8456\n",
      "Epoch 103/120\n",
      "89/89 [==============================] - 0s 2ms/step - loss: 0.4182 - recall: 0.8295 - val_loss: 0.4104 - val_recall: 0.8456\n",
      "Epoch 104/120\n",
      "89/89 [==============================] - 0s 2ms/step - loss: 0.4163 - recall: 0.8302 - val_loss: 0.4095 - val_recall: 0.8456\n",
      "Epoch 105/120\n",
      "89/89 [==============================] - 0s 2ms/step - loss: 0.4202 - recall: 0.8099 - val_loss: 0.4085 - val_recall: 0.8456\n",
      "Epoch 106/120\n",
      "89/89 [==============================] - 0s 2ms/step - loss: 0.4107 - recall: 0.8288 - val_loss: 0.4075 - val_recall: 0.8456\n",
      "Epoch 107/120\n",
      "89/89 [==============================] - 0s 2ms/step - loss: 0.4114 - recall: 0.8344 - val_loss: 0.4065 - val_recall: 0.8456\n",
      "Epoch 108/120\n",
      "89/89 [==============================] - 0s 2ms/step - loss: 0.4048 - recall: 0.8414 - val_loss: 0.4058 - val_recall: 0.8456\n",
      "Epoch 109/120\n",
      "89/89 [==============================] - 0s 2ms/step - loss: 0.4124 - recall: 0.8344 - val_loss: 0.4043 - val_recall: 0.8456\n",
      "Epoch 110/120\n",
      "89/89 [==============================] - 0s 2ms/step - loss: 0.4133 - recall: 0.8169 - val_loss: 0.4033 - val_recall: 0.8456\n",
      "Epoch 111/120\n",
      "89/89 [==============================] - 0s 2ms/step - loss: 0.4085 - recall: 0.8337 - val_loss: 0.4025 - val_recall: 0.8456\n",
      "Epoch 112/120\n",
      "89/89 [==============================] - 0s 2ms/step - loss: 0.4101 - recall: 0.8316 - val_loss: 0.4014 - val_recall: 0.8456\n",
      "Epoch 113/120\n",
      "89/89 [==============================] - 0s 2ms/step - loss: 0.4043 - recall: 0.8358 - val_loss: 0.4006 - val_recall: 0.8456\n",
      "Epoch 114/120\n",
      "89/89 [==============================] - 0s 2ms/step - loss: 0.4020 - recall: 0.8344 - val_loss: 0.3994 - val_recall: 0.8456\n",
      "Epoch 115/120\n",
      "89/89 [==============================] - 0s 2ms/step - loss: 0.4090 - recall: 0.8351 - val_loss: 0.3983 - val_recall: 0.8456\n",
      "Epoch 116/120\n",
      "89/89 [==============================] - 0s 2ms/step - loss: 0.4104 - recall: 0.8414 - val_loss: 0.3972 - val_recall: 0.8456\n",
      "Epoch 117/120\n",
      "89/89 [==============================] - 0s 2ms/step - loss: 0.4039 - recall: 0.8344 - val_loss: 0.3967 - val_recall: 0.8456\n",
      "Epoch 118/120\n",
      "89/89 [==============================] - 0s 2ms/step - loss: 0.4043 - recall: 0.8365 - val_loss: 0.3957 - val_recall: 0.8456\n",
      "Epoch 119/120\n",
      "89/89 [==============================] - 0s 2ms/step - loss: 0.4012 - recall: 0.8449 - val_loss: 0.3950 - val_recall: 0.8456\n",
      "Epoch 120/120\n",
      "89/89 [==============================] - 0s 2ms/step - loss: 0.3987 - recall: 0.8442 - val_loss: 0.3940 - val_recall: 0.8456\n"
     ]
    }
   ],
   "source": [
    "history = modelDR.fit(X_train, y_train, epochs=120, validation_data=(X_val, y_val), callbacks=[stop_early])"
   ]
  },
  {
   "cell_type": "code",
   "execution_count": 25,
   "id": "cb91deb3-071f-4ec4-a657-e2fe8350a847",
   "metadata": {
    "colab": {
     "base_uri": "https://localhost:8080/",
     "height": 470
    },
    "id": "cb91deb3-071f-4ec4-a657-e2fe8350a847",
    "outputId": "343171f0-6d97-434f-d79d-526b0a7586f8"
   },
   "outputs": [
    {
     "data": {
      "image/png": "[encoded data removed]",
      "text/plain": [
       "<Figure size 800x500 with 1 Axes>"
      ]
     },
     "metadata": {},
     "output_type": "display_data"
    }
   ],
   "source": [
    "plot_training_history(history)"
   ]
  },
  {
   "cell_type": "markdown",
   "id": "9fab2fdf-8241-4bae-aed4-76cc78138cc7",
   "metadata": {
    "id": "9fab2fdf-8241-4bae-aed4-76cc78138cc7"
   },
   "source": [
    "#### Insights from the Plot:\n",
    "- The implementation of dropout seems to be effective in mitigating overfitting, as indicated by the validation loss not rising again after the initial drop.\n",
    "- Both training and validation recall are high, which is important for a medical diagnostic tool where missing true cases (low recall) could have serious consequences.\n",
    "- The training process appears to be stable, without signs of divergence, which is often a challenge when training for a high number of epochs."
   ]
  },
  {
   "cell_type": "code",
   "execution_count": 26,
   "id": "b0b1be6f-7f84-4539-9e55-af1afece6d65",
   "metadata": {
    "colab": {
     "base_uri": "https://localhost:8080/"
    },
    "id": "b0b1be6f-7f84-4539-9e55-af1afece6d65",
    "outputId": "42372311-16b7-4090-cce0-6541506fc743"
   },
   "outputs": [
    {
     "name": "stdout",
     "output_type": "stream",
     "text": [
      "16/16 [==============================] - 0s 1ms/step - loss: 0.4741 - recall: 0.9091\n"
     ]
    }
   ],
   "source": [
    "test_loss, test_recall = modelDR.evaluate(X_test_scaled, y_test)"
   ]
  },
  {
   "cell_type": "code",
   "execution_count": 27,
   "id": "c59a9c57-d726-4f9a-8ea0-3b195442f504",
   "metadata": {
    "colab": {
     "base_uri": "https://localhost:8080/",
     "height": 564
    },
    "id": "c59a9c57-d726-4f9a-8ea0-3b195442f504",
    "outputId": "3ef89c6f-23c9-4a58-b353-c97e7c6b8a4f"
   },
   "outputs": [
    {
     "name": "stdout",
     "output_type": "stream",
     "text": [
      "16/16 [==============================] - 0s 864us/step\n"
     ]
    },
    {
     "name": "stderr",
     "output_type": "stream",
     "text": [
      "C:\\Users\\Vlad\\AppData\\Local\\Temp\\ipykernel_20404\\1237922436.py:19: UserWarning: set_ticklabels() should only be used with a fixed number of ticks, i.e. after set_ticks() or using a FixedLocator.\n",
      "  ax.set_xticklabels([''] + ['No Stroke', 'Stroke'])\n",
      "C:\\Users\\Vlad\\AppData\\Local\\Temp\\ipykernel_20404\\1237922436.py:20: UserWarning: set_ticklabels() should only be used with a fixed number of ticks, i.e. after set_ticks() or using a FixedLocator.\n",
      "  ax.set_yticklabels([''] + ['No Stroke', 'Stroke'])\n"
     ]
    },
    {
     "data": {
      "image/png": "[encoded data removed]",
      "text/plain": [
       "<Figure size 640x480 with 2 Axes>"
      ]
     },
     "metadata": {},
     "output_type": "display_data"
    }
   ],
   "source": [
    "plot_confusion_matrix(modelDR)"
   ]
  },
  {
   "cell_type": "code",
   "execution_count": 28,
   "id": "c5710716-d273-4cfd-a413-21655bd72f92",
   "metadata": {
    "colab": {
     "base_uri": "https://localhost:8080/",
     "height": 142
    },
    "id": "c5710716-d273-4cfd-a413-21655bd72f92",
    "outputId": "e8b13243-a1b9-4a52-af57-a04471bea72c"
   },
   "outputs": [
    {
     "name": "stdout",
     "output_type": "stream",
     "text": [
      "16/16 [==============================] - 0s 816us/step\n"
     ]
    },
    {
     "data": {
      "text/html": [
       "<div>\n",
       "<style scoped>\n",
       "    .dataframe tbody tr th:only-of-type {\n",
       "        vertical-align: middle;\n",
       "    }\n",
       "\n",
       "    .dataframe tbody tr th {\n",
       "        vertical-align: top;\n",
       "    }\n",
       "\n",
       "    .dataframe thead th {\n",
       "        text-align: right;\n",
       "    }\n",
       "</style>\n",
       "<table border=\"1\" class=\"dataframe\">\n",
       "  <thead>\n",
       "    <tr style=\"text-align: right;\">\n",
       "      <th></th>\n",
       "      <th>Model</th>\n",
       "      <th>Accuracy</th>\n",
       "      <th>Recall</th>\n",
       "      <th>Precision</th>\n",
       "      <th>F1</th>\n",
       "    </tr>\n",
       "  </thead>\n",
       "  <tbody>\n",
       "    <tr>\n",
       "      <th>0</th>\n",
       "      <td>Initial Model</td>\n",
       "      <td>0.736626</td>\n",
       "      <td>0.909091</td>\n",
       "      <td>0.072993</td>\n",
       "      <td>0.135135</td>\n",
       "    </tr>\n",
       "    <tr>\n",
       "      <th>1</th>\n",
       "      <td>Model with Dropout</td>\n",
       "      <td>0.757202</td>\n",
       "      <td>0.909091</td>\n",
       "      <td>0.078740</td>\n",
       "      <td>0.144928</td>\n",
       "    </tr>\n",
       "  </tbody>\n",
       "</table>\n",
       "</div>"
      ],
      "text/plain": [
       "                Model  Accuracy    Recall  Precision        F1\n",
       "0       Initial Model  0.736626  0.909091   0.072993  0.135135\n",
       "1  Model with Dropout  0.757202  0.909091   0.078740  0.144928"
      ]
     },
     "execution_count": 28,
     "metadata": {},
     "output_type": "execute_result"
    }
   ],
   "source": [
    "new_data = update_model_metrics(modelDR, \"Model with Dropout\")\n",
    "df_models = pd.concat([df_models, new_data], ignore_index=True)\n",
    "df_models"
   ]
  },
  {
   "cell_type": "markdown",
   "id": "04eb0542-298d-4a87-bf4a-7fe93200089b",
   "metadata": {
    "id": "04eb0542-298d-4a87-bf4a-7fe93200089b"
   },
   "source": [
    "#### Interpretation:\n",
    "The confusion matrix for the model with Dropout shows an almost similar distribution of predictions to the initial model, with a large number of False Positives.\n",
    "\n",
    "#### Training Dynamics\n",
    "Despite similar performance metrics, the model with Dropout required more epochs to converge to a comparable loss function value, likely due to the added regularization which slows down the learning process to ensure more robust feature learning.\n",
    "\n",
    "#### Implications and Next Steps\n",
    "The similar performance metrics suggest that while Dropout helps in regularizing the training process, it has not significantly enhanced the model's ability to differentiate between cled on. Further experimentation with different dropout rates, additional regularization techniques, or a more sophisticated optimization strategy may yield better results.\n",
    "\n",
    "In subsequent iterations, strategies such as weight regularization, batch normalization, or different variations of the network architecture itself could be considered to address the precision-recall balance and improve overall model performance."
   ]
  },
  {
   "cell_type": "markdown",
   "id": "ddfcc581-71a0-4281-ac5d-cfd8c76c48e5",
   "metadata": {
    "id": "ddfcc581-71a0-4281-ac5d-cfd8c76c48e5"
   },
   "source": [
    "#### Behind the scene:\n",
    "\n",
    "Several approaches were made with different dropout values applied to various layers. Additionally, the model was trained with different numbers of epochs and learning rates. The best model variant has been preserved for future improvements."
   ]
  },
  {
   "cell_type": "markdown",
   "id": "ef5d9686-04ac-4ca1-945d-eec42f346882",
   "metadata": {
    "id": "ef5d9686-04ac-4ca1-945d-eec42f346882"
   },
   "source": [
    "#### Considerations for Dropout\n",
    "It's important to note that due to the stochastic nature of dropout, which randomly omits neurons during training, the evaluation metrics could show some variability. The randomness introduced by dropout aims to enhance the model's robustness, but it also means that performance metrics may differ slightly each time the model is trained and evaluated."
   ]
  },
  {
   "cell_type": "markdown",
   "id": "52c3ac27-f65a-4a4b-ad68-cfd9d0b9652c",
   "metadata": {
    "id": "52c3ac27-f65a-4a4b-ad68-cfd9d0b9652c"
   },
   "source": [
    "### Enhancing Regularization with Dropout and L2"
   ]
  },
  {
   "cell_type": "markdown",
   "id": "2505fd3d-391f-402e-9945-417547840af5",
   "metadata": {
    "id": "2505fd3d-391f-402e-9945-417547840af5"
   },
   "source": [
    "L2 regularization, also known as ridge regularization, introduces a penalty equivalent to the square of the magnitude of coefficients. This discourages large weights in the model by adding a regularization term to the loss function, pushing the model towards simpler solutions that may generalize better.\n",
    "\n",
    "From the insights of previous assignments, it was observed that the model heavily relies on the 'age' feature for predictions. L2 regularization is expected to penalize the reliance on any single feature by encouraging a more even distribution of weight importance, which in turn can lead to more balanced decision-making by the model.\n",
    "\n",
    "**L2 Regularized Layers**: The third and fourth dense layers include L2 regularization with a lambda value of 0.01."
   ]
  },
  {
   "cell_type": "code",
   "execution_count": 29,
   "id": "8d5ae4b6-f3bc-4c6a-8578-2f1b1ac6e1ba",
   "metadata": {
    "id": "8d5ae4b6-f3bc-4c6a-8578-2f1b1ac6e1ba"
   },
   "outputs": [],
   "source": [
    "# Define the model with L1 and L2 regularization\n",
    "modelReg = Sequential([\n",
    "    Dense(256, activation='relu', input_shape=(X_train_upsampled.shape[1],)),\n",
    "    Dropout(0.2),\n",
    "    Dense(128, activation='relu'),\n",
    "    Dropout(0.2),\n",
    "    Dense(64, activation='relu', kernel_regularizer=l2(0.01)),\n",
    "    Dropout(0.1),\n",
    "    Dense(32, activation='relu', kernel_regularizer=l2(0.01)),\n",
    "    Dense(1, activation='sigmoid')\n",
    "])\n",
    "\n",
    "# Compile the model\n",
    "modelReg.compile(optimizer=Adam(learning_rate=0.00001),\n",
    "                loss='binary_crossentropy',\n",
    "                metrics=[\"Recall\"])"
   ]
  },
  {
   "cell_type": "code",
   "execution_count": 30,
   "id": "09c45f4f-7a78-40f1-b806-af548f81f552",
   "metadata": {
    "colab": {
     "base_uri": "https://localhost:8080/"
    },
    "id": "09c45f4f-7a78-40f1-b806-af548f81f552",
    "outputId": "873c80d6-5cc2-4678-94b9-801dcf91c92d"
   },
   "outputs": [
    {
     "name": "stdout",
     "output_type": "stream",
     "text": [
      "Epoch 1/120\n",
      "89/89 [==============================] - 1s 3ms/step - loss: 1.9501 - recall: 0.9273 - val_loss: 1.9369 - val_recall: 1.0000\n",
      "Epoch 2/120\n",
      "89/89 [==============================] - 0s 2ms/step - loss: 1.9277 - recall: 0.9434 - val_loss: 1.9161 - val_recall: 1.0000\n",
      "Epoch 3/120\n",
      "89/89 [==============================] - 0s 2ms/step - loss: 1.9073 - recall: 0.9553 - val_loss: 1.8955 - val_recall: 1.0000\n",
      "Epoch 4/120\n",
      "89/89 [==============================] - 0s 2ms/step - loss: 1.8885 - recall: 0.9581 - val_loss: 1.8751 - val_recall: 1.0000\n",
      "Epoch 5/120\n",
      "89/89 [==============================] - 0s 4ms/step - loss: 1.8681 - recall: 0.9727 - val_loss: 1.8550 - val_recall: 0.9866\n",
      "Epoch 6/120\n",
      "89/89 [==============================] - 0s 2ms/step - loss: 1.8483 - recall: 0.9720 - val_loss: 1.8349 - val_recall: 0.9866\n",
      "Epoch 7/120\n",
      "89/89 [==============================] - 0s 2ms/step - loss: 1.8291 - recall: 0.9700 - val_loss: 1.8145 - val_recall: 0.9866\n",
      "Epoch 8/120\n",
      "89/89 [==============================] - 0s 2ms/step - loss: 1.8077 - recall: 0.9679 - val_loss: 1.7942 - val_recall: 0.9866\n",
      "Epoch 9/120\n",
      "89/89 [==============================] - 0s 2ms/step - loss: 1.7874 - recall: 0.9581 - val_loss: 1.7740 - val_recall: 0.9732\n",
      "Epoch 10/120\n",
      "89/89 [==============================] - 0s 2ms/step - loss: 1.7687 - recall: 0.9511 - val_loss: 1.7540 - val_recall: 0.9732\n",
      "Epoch 11/120\n",
      "89/89 [==============================] - 0s 2ms/step - loss: 1.7477 - recall: 0.9504 - val_loss: 1.7335 - val_recall: 0.9732\n",
      "Epoch 12/120\n",
      "89/89 [==============================] - 0s 2ms/step - loss: 1.7300 - recall: 0.9462 - val_loss: 1.7134 - val_recall: 0.9463\n",
      "Epoch 13/120\n",
      "89/89 [==============================] - 0s 2ms/step - loss: 1.7114 - recall: 0.9427 - val_loss: 1.6936 - val_recall: 0.9463\n",
      "Epoch 14/120\n",
      "89/89 [==============================] - 0s 2ms/step - loss: 1.6903 - recall: 0.9231 - val_loss: 1.6741 - val_recall: 0.9463\n",
      "Epoch 15/120\n",
      "89/89 [==============================] - 0s 2ms/step - loss: 1.6691 - recall: 0.9182 - val_loss: 1.6545 - val_recall: 0.9463\n",
      "Epoch 16/120\n",
      "89/89 [==============================] - 0s 2ms/step - loss: 1.6506 - recall: 0.9022 - val_loss: 1.6353 - val_recall: 0.9262\n",
      "Epoch 17/120\n",
      "89/89 [==============================] - 0s 2ms/step - loss: 1.6299 - recall: 0.8882 - val_loss: 1.6164 - val_recall: 0.9150\n",
      "Epoch 18/120\n",
      "89/89 [==============================] - 0s 2ms/step - loss: 1.6125 - recall: 0.8917 - val_loss: 1.5985 - val_recall: 0.9150\n",
      "Epoch 19/120\n",
      "89/89 [==============================] - 0s 2ms/step - loss: 1.5927 - recall: 0.8763 - val_loss: 1.5799 - val_recall: 0.9150\n",
      "Epoch 20/120\n",
      "89/89 [==============================] - 0s 2ms/step - loss: 1.5753 - recall: 0.8700 - val_loss: 1.5624 - val_recall: 0.8926\n",
      "Epoch 21/120\n",
      "89/89 [==============================] - 0s 2ms/step - loss: 1.5604 - recall: 0.8498 - val_loss: 1.5450 - val_recall: 0.8926\n",
      "Epoch 22/120\n",
      "89/89 [==============================] - 0s 2ms/step - loss: 1.5444 - recall: 0.8505 - val_loss: 1.5284 - val_recall: 0.8926\n",
      "Epoch 23/120\n",
      "89/89 [==============================] - 0s 2ms/step - loss: 1.5210 - recall: 0.8463 - val_loss: 1.5120 - val_recall: 0.8926\n",
      "Epoch 24/120\n",
      "89/89 [==============================] - 0s 2ms/step - loss: 1.5033 - recall: 0.8351 - val_loss: 1.4959 - val_recall: 0.8926\n",
      "Epoch 25/120\n",
      "89/89 [==============================] - 0s 2ms/step - loss: 1.4904 - recall: 0.8351 - val_loss: 1.4804 - val_recall: 0.8635\n",
      "Epoch 26/120\n",
      "89/89 [==============================] - 0s 2ms/step - loss: 1.4721 - recall: 0.8323 - val_loss: 1.4650 - val_recall: 0.8635\n",
      "Epoch 27/120\n",
      "89/89 [==============================] - 0s 2ms/step - loss: 1.4608 - recall: 0.8176 - val_loss: 1.4501 - val_recall: 0.8635\n",
      "Epoch 28/120\n",
      "89/89 [==============================] - 0s 2ms/step - loss: 1.4444 - recall: 0.8162 - val_loss: 1.4354 - val_recall: 0.8322\n",
      "Epoch 29/120\n",
      "89/89 [==============================] - 0s 2ms/step - loss: 1.4263 - recall: 0.8190 - val_loss: 1.4214 - val_recall: 0.8009\n",
      "Epoch 30/120\n",
      "89/89 [==============================] - 0s 2ms/step - loss: 1.4167 - recall: 0.8085 - val_loss: 1.4077 - val_recall: 0.7919\n",
      "Epoch 31/120\n",
      "89/89 [==============================] - 0s 2ms/step - loss: 1.3985 - recall: 0.8015 - val_loss: 1.3944 - val_recall: 0.7919\n",
      "Epoch 32/120\n",
      "89/89 [==============================] - 0s 2ms/step - loss: 1.3927 - recall: 0.7925 - val_loss: 1.3815 - val_recall: 0.7919\n",
      "Epoch 33/120\n",
      "89/89 [==============================] - 0s 2ms/step - loss: 1.3785 - recall: 0.7966 - val_loss: 1.3692 - val_recall: 0.7919\n",
      "Epoch 34/120\n",
      "89/89 [==============================] - 0s 2ms/step - loss: 1.3609 - recall: 0.8043 - val_loss: 1.3572 - val_recall: 0.7919\n",
      "Epoch 35/120\n",
      "89/89 [==============================] - 0s 2ms/step - loss: 1.3594 - recall: 0.7925 - val_loss: 1.3454 - val_recall: 0.7919\n",
      "Epoch 36/120\n",
      "89/89 [==============================] - 0s 2ms/step - loss: 1.3412 - recall: 0.7932 - val_loss: 1.3336 - val_recall: 0.7919\n",
      "Epoch 37/120\n",
      "89/89 [==============================] - 0s 2ms/step - loss: 1.3293 - recall: 0.7883 - val_loss: 1.3223 - val_recall: 0.7919\n",
      "Epoch 38/120\n",
      "89/89 [==============================] - 0s 2ms/step - loss: 1.3230 - recall: 0.7883 - val_loss: 1.3114 - val_recall: 0.7919\n",
      "Epoch 39/120\n",
      "89/89 [==============================] - 0s 2ms/step - loss: 1.3085 - recall: 0.7904 - val_loss: 1.3007 - val_recall: 0.8009\n",
      "Epoch 40/120\n",
      "89/89 [==============================] - 0s 2ms/step - loss: 1.2985 - recall: 0.7973 - val_loss: 1.2901 - val_recall: 0.8009\n",
      "Epoch 41/120\n",
      "89/89 [==============================] - 0s 2ms/step - loss: 1.2846 - recall: 0.7973 - val_loss: 1.2792 - val_recall: 0.8009\n",
      "Epoch 42/120\n",
      "89/89 [==============================] - 0s 2ms/step - loss: 1.2750 - recall: 0.7945 - val_loss: 1.2691 - val_recall: 0.8009\n",
      "Epoch 43/120\n",
      "89/89 [==============================] - 0s 2ms/step - loss: 1.2705 - recall: 0.7883 - val_loss: 1.2586 - val_recall: 0.8009\n",
      "Epoch 44/120\n",
      "89/89 [==============================] - 0s 2ms/step - loss: 1.2525 - recall: 0.7911 - val_loss: 1.2488 - val_recall: 0.8009\n",
      "Epoch 45/120\n",
      "89/89 [==============================] - 0s 2ms/step - loss: 1.2482 - recall: 0.8036 - val_loss: 1.2383 - val_recall: 0.8009\n",
      "Epoch 46/120\n",
      "89/89 [==============================] - 0s 2ms/step - loss: 1.2344 - recall: 0.7945 - val_loss: 1.2281 - val_recall: 0.7919\n",
      "Epoch 47/120\n",
      "89/89 [==============================] - 0s 2ms/step - loss: 1.2274 - recall: 0.7952 - val_loss: 1.2186 - val_recall: 0.8009\n",
      "Epoch 48/120\n",
      "89/89 [==============================] - 0s 2ms/step - loss: 1.2160 - recall: 0.7890 - val_loss: 1.2094 - val_recall: 0.8009\n",
      "Epoch 49/120\n",
      "89/89 [==============================] - 0s 2ms/step - loss: 1.2024 - recall: 0.8029 - val_loss: 1.1999 - val_recall: 0.8009\n",
      "Epoch 50/120\n",
      "89/89 [==============================] - 0s 2ms/step - loss: 1.1959 - recall: 0.7911 - val_loss: 1.1909 - val_recall: 0.8009\n",
      "Epoch 51/120\n",
      "89/89 [==============================] - 0s 2ms/step - loss: 1.1922 - recall: 0.7959 - val_loss: 1.1820 - val_recall: 0.8322\n",
      "Epoch 52/120\n",
      "89/89 [==============================] - 0s 2ms/step - loss: 1.1795 - recall: 0.7952 - val_loss: 1.1730 - val_recall: 0.8322\n",
      "Epoch 53/120\n",
      "89/89 [==============================] - 0s 2ms/step - loss: 1.1707 - recall: 0.7918 - val_loss: 1.1642 - val_recall: 0.8322\n",
      "Epoch 54/120\n",
      "89/89 [==============================] - 0s 2ms/step - loss: 1.1605 - recall: 0.8015 - val_loss: 1.1552 - val_recall: 0.8322\n",
      "Epoch 55/120\n",
      "89/89 [==============================] - 0s 2ms/step - loss: 1.1456 - recall: 0.8050 - val_loss: 1.1466 - val_recall: 0.8322\n",
      "Epoch 56/120\n",
      "89/89 [==============================] - 0s 2ms/step - loss: 1.1409 - recall: 0.8085 - val_loss: 1.1379 - val_recall: 0.8322\n",
      "Epoch 57/120\n",
      "89/89 [==============================] - 0s 2ms/step - loss: 1.1378 - recall: 0.8036 - val_loss: 1.1298 - val_recall: 0.8322\n",
      "Epoch 58/120\n",
      "89/89 [==============================] - 0s 2ms/step - loss: 1.1268 - recall: 0.8043 - val_loss: 1.1214 - val_recall: 0.8322\n",
      "Epoch 59/120\n",
      "89/89 [==============================] - 0s 2ms/step - loss: 1.1192 - recall: 0.8176 - val_loss: 1.1132 - val_recall: 0.8322\n",
      "Epoch 60/120\n",
      "89/89 [==============================] - 0s 2ms/step - loss: 1.1052 - recall: 0.8085 - val_loss: 1.1048 - val_recall: 0.8121\n",
      "Epoch 61/120\n",
      "89/89 [==============================] - 0s 2ms/step - loss: 1.1007 - recall: 0.8078 - val_loss: 1.0965 - val_recall: 0.8121\n",
      "Epoch 62/120\n",
      "89/89 [==============================] - 0s 2ms/step - loss: 1.0922 - recall: 0.8127 - val_loss: 1.0885 - val_recall: 0.8121\n",
      "Epoch 63/120\n",
      "89/89 [==============================] - 0s 2ms/step - loss: 1.0877 - recall: 0.8043 - val_loss: 1.0808 - val_recall: 0.8322\n",
      "Epoch 64/120\n",
      "89/89 [==============================] - 0s 2ms/step - loss: 1.0764 - recall: 0.8057 - val_loss: 1.0723 - val_recall: 0.8121\n",
      "Epoch 65/120\n",
      "89/89 [==============================] - 0s 2ms/step - loss: 1.0649 - recall: 0.8057 - val_loss: 1.0645 - val_recall: 0.8121\n",
      "Epoch 66/120\n",
      "89/89 [==============================] - 0s 2ms/step - loss: 1.0615 - recall: 0.8085 - val_loss: 1.0573 - val_recall: 0.8121\n",
      "Epoch 67/120\n",
      "89/89 [==============================] - 0s 2ms/step - loss: 1.0496 - recall: 0.8190 - val_loss: 1.0493 - val_recall: 0.8121\n",
      "Epoch 68/120\n",
      "89/89 [==============================] - 0s 2ms/step - loss: 1.0446 - recall: 0.8169 - val_loss: 1.0414 - val_recall: 0.8121\n",
      "Epoch 69/120\n",
      "89/89 [==============================] - 0s 2ms/step - loss: 1.0412 - recall: 0.8085 - val_loss: 1.0339 - val_recall: 0.8121\n",
      "Epoch 70/120\n",
      "89/89 [==============================] - 0s 2ms/step - loss: 1.0324 - recall: 0.8036 - val_loss: 1.0270 - val_recall: 0.8121\n",
      "Epoch 71/120\n",
      "89/89 [==============================] - 0s 2ms/step - loss: 1.0211 - recall: 0.8211 - val_loss: 1.0198 - val_recall: 0.8121\n",
      "Epoch 72/120\n",
      "89/89 [==============================] - 0s 2ms/step - loss: 1.0165 - recall: 0.8155 - val_loss: 1.0120 - val_recall: 0.8121\n",
      "Epoch 73/120\n",
      "89/89 [==============================] - 0s 2ms/step - loss: 1.0088 - recall: 0.8120 - val_loss: 1.0054 - val_recall: 0.8233\n",
      "Epoch 74/120\n",
      "89/89 [==============================] - 0s 2ms/step - loss: 1.0035 - recall: 0.8204 - val_loss: 0.9981 - val_recall: 0.8233\n",
      "Epoch 75/120\n",
      "89/89 [==============================] - 0s 2ms/step - loss: 0.9912 - recall: 0.8169 - val_loss: 0.9907 - val_recall: 0.8121\n",
      "Epoch 76/120\n",
      "89/89 [==============================] - 0s 2ms/step - loss: 0.9883 - recall: 0.8155 - val_loss: 0.9837 - val_recall: 0.8233\n",
      "Epoch 77/120\n",
      "89/89 [==============================] - 0s 2ms/step - loss: 0.9822 - recall: 0.8239 - val_loss: 0.9770 - val_recall: 0.8233\n",
      "Epoch 78/120\n",
      "89/89 [==============================] - 0s 2ms/step - loss: 0.9696 - recall: 0.8274 - val_loss: 0.9705 - val_recall: 0.8233\n",
      "Epoch 79/120\n",
      "89/89 [==============================] - 0s 2ms/step - loss: 0.9638 - recall: 0.8309 - val_loss: 0.9636 - val_recall: 0.8233\n",
      "Epoch 80/120\n",
      "89/89 [==============================] - 0s 2ms/step - loss: 0.9605 - recall: 0.8246 - val_loss: 0.9570 - val_recall: 0.8233\n",
      "Epoch 81/120\n",
      "89/89 [==============================] - 0s 2ms/step - loss: 0.9538 - recall: 0.8204 - val_loss: 0.9503 - val_recall: 0.8233\n",
      "Epoch 82/120\n",
      "89/89 [==============================] - 0s 2ms/step - loss: 0.9436 - recall: 0.8176 - val_loss: 0.9440 - val_recall: 0.8233\n",
      "Epoch 83/120\n",
      "89/89 [==============================] - 0s 2ms/step - loss: 0.9436 - recall: 0.8141 - val_loss: 0.9377 - val_recall: 0.8233\n",
      "Epoch 84/120\n",
      "89/89 [==============================] - 0s 2ms/step - loss: 0.9336 - recall: 0.8232 - val_loss: 0.9313 - val_recall: 0.8233\n",
      "Epoch 85/120\n",
      "89/89 [==============================] - 0s 2ms/step - loss: 0.9230 - recall: 0.8232 - val_loss: 0.9249 - val_recall: 0.8233\n",
      "Epoch 86/120\n",
      "89/89 [==============================] - 0s 2ms/step - loss: 0.9218 - recall: 0.8232 - val_loss: 0.9186 - val_recall: 0.8233\n",
      "Epoch 87/120\n",
      "89/89 [==============================] - 0s 2ms/step - loss: 0.9135 - recall: 0.8253 - val_loss: 0.9127 - val_recall: 0.8233\n",
      "Epoch 88/120\n",
      "89/89 [==============================] - 0s 2ms/step - loss: 0.9003 - recall: 0.8372 - val_loss: 0.9064 - val_recall: 0.8233\n",
      "Epoch 89/120\n",
      "89/89 [==============================] - 0s 2ms/step - loss: 0.9034 - recall: 0.8351 - val_loss: 0.9004 - val_recall: 0.8233\n",
      "Epoch 90/120\n",
      "89/89 [==============================] - 0s 2ms/step - loss: 0.8976 - recall: 0.8288 - val_loss: 0.8942 - val_recall: 0.8233\n",
      "Epoch 91/120\n",
      "89/89 [==============================] - 0s 2ms/step - loss: 0.8880 - recall: 0.8337 - val_loss: 0.8884 - val_recall: 0.8233\n",
      "Epoch 92/120\n",
      "89/89 [==============================] - 0s 2ms/step - loss: 0.8802 - recall: 0.8253 - val_loss: 0.8825 - val_recall: 0.8233\n",
      "Epoch 93/120\n",
      "89/89 [==============================] - 0s 2ms/step - loss: 0.8817 - recall: 0.8176 - val_loss: 0.8768 - val_recall: 0.8591\n",
      "Epoch 94/120\n",
      "89/89 [==============================] - 0s 2ms/step - loss: 0.8776 - recall: 0.8267 - val_loss: 0.8710 - val_recall: 0.8591\n",
      "Epoch 95/120\n",
      "89/89 [==============================] - 0s 2ms/step - loss: 0.8667 - recall: 0.8253 - val_loss: 0.8648 - val_recall: 0.8591\n",
      "Epoch 96/120\n",
      "89/89 [==============================] - 0s 2ms/step - loss: 0.8584 - recall: 0.8358 - val_loss: 0.8601 - val_recall: 0.8591\n",
      "Epoch 97/120\n",
      "89/89 [==============================] - 0s 2ms/step - loss: 0.8584 - recall: 0.8351 - val_loss: 0.8538 - val_recall: 0.8456\n",
      "Epoch 98/120\n",
      "89/89 [==============================] - 0s 2ms/step - loss: 0.8511 - recall: 0.8421 - val_loss: 0.8485 - val_recall: 0.8591\n",
      "Epoch 99/120\n",
      "89/89 [==============================] - 0s 2ms/step - loss: 0.8487 - recall: 0.8295 - val_loss: 0.8425 - val_recall: 0.8233\n",
      "Epoch 100/120\n",
      "89/89 [==============================] - 0s 2ms/step - loss: 0.8382 - recall: 0.8218 - val_loss: 0.8376 - val_recall: 0.8456\n",
      "Epoch 101/120\n",
      "89/89 [==============================] - 0s 2ms/step - loss: 0.8408 - recall: 0.8246 - val_loss: 0.8323 - val_recall: 0.8456\n",
      "Epoch 102/120\n",
      "89/89 [==============================] - 0s 2ms/step - loss: 0.8260 - recall: 0.8295 - val_loss: 0.8273 - val_recall: 0.8591\n",
      "Epoch 103/120\n",
      "89/89 [==============================] - 0s 2ms/step - loss: 0.8229 - recall: 0.8400 - val_loss: 0.8227 - val_recall: 0.8591\n",
      "Epoch 104/120\n",
      "89/89 [==============================] - 0s 2ms/step - loss: 0.8182 - recall: 0.8302 - val_loss: 0.8173 - val_recall: 0.8591\n",
      "Epoch 105/120\n",
      "89/89 [==============================] - 0s 2ms/step - loss: 0.8154 - recall: 0.8330 - val_loss: 0.8126 - val_recall: 0.8591\n",
      "Epoch 106/120\n",
      "89/89 [==============================] - 0s 2ms/step - loss: 0.8082 - recall: 0.8302 - val_loss: 0.8078 - val_recall: 0.8591\n",
      "Epoch 107/120\n",
      "89/89 [==============================] - 0s 2ms/step - loss: 0.8057 - recall: 0.8400 - val_loss: 0.8030 - val_recall: 0.8591\n",
      "Epoch 108/120\n",
      "89/89 [==============================] - 0s 2ms/step - loss: 0.7980 - recall: 0.8358 - val_loss: 0.7980 - val_recall: 0.8591\n",
      "Epoch 109/120\n",
      "89/89 [==============================] - 0s 2ms/step - loss: 0.7928 - recall: 0.8365 - val_loss: 0.7931 - val_recall: 0.8591\n",
      "Epoch 110/120\n",
      "89/89 [==============================] - 0s 2ms/step - loss: 0.7952 - recall: 0.8351 - val_loss: 0.7886 - val_recall: 0.8591\n",
      "Epoch 111/120\n",
      "89/89 [==============================] - 0s 2ms/step - loss: 0.7824 - recall: 0.8560 - val_loss: 0.7837 - val_recall: 0.8591\n",
      "Epoch 112/120\n",
      "89/89 [==============================] - 0s 2ms/step - loss: 0.7802 - recall: 0.8365 - val_loss: 0.7786 - val_recall: 0.8591\n",
      "Epoch 113/120\n",
      "89/89 [==============================] - 0s 2ms/step - loss: 0.7797 - recall: 0.8323 - val_loss: 0.7739 - val_recall: 0.8591\n",
      "Epoch 114/120\n",
      "89/89 [==============================] - 0s 2ms/step - loss: 0.7682 - recall: 0.8379 - val_loss: 0.7702 - val_recall: 0.8591\n",
      "Epoch 115/120\n",
      "89/89 [==============================] - 0s 2ms/step - loss: 0.7669 - recall: 0.8456 - val_loss: 0.7659 - val_recall: 0.8591\n",
      "Epoch 116/120\n",
      "89/89 [==============================] - 0s 2ms/step - loss: 0.7650 - recall: 0.8470 - val_loss: 0.7617 - val_recall: 0.8591\n",
      "Epoch 117/120\n",
      "89/89 [==============================] - 0s 2ms/step - loss: 0.7599 - recall: 0.8491 - val_loss: 0.7570 - val_recall: 0.8591\n",
      "Epoch 118/120\n",
      "89/89 [==============================] - 0s 2ms/step - loss: 0.7490 - recall: 0.8470 - val_loss: 0.7527 - val_recall: 0.8591\n",
      "Epoch 119/120\n",
      "89/89 [==============================] - 0s 2ms/step - loss: 0.7488 - recall: 0.8595 - val_loss: 0.7485 - val_recall: 0.8591\n",
      "Epoch 120/120\n",
      "89/89 [==============================] - 0s 2ms/step - loss: 0.7418 - recall: 0.8505 - val_loss: 0.7445 - val_recall: 0.8591\n"
     ]
    }
   ],
   "source": [
    "history = modelReg.fit(X_train, y_train, epochs=120, validation_data=(X_val, y_val), callbacks=[stop_early])"
   ]
  },
  {
   "cell_type": "code",
   "execution_count": 31,
   "id": "e62b3237-3c5b-415f-9fd8-02735711fbb4",
   "metadata": {
    "colab": {
     "base_uri": "https://localhost:8080/",
     "height": 470
    },
    "id": "e62b3237-3c5b-415f-9fd8-02735711fbb4",
    "outputId": "1afe5808-17dc-4988-b83e-0aaf8e116d64"
   },
   "outputs": [
    {
     "data": {
      "image/png": "[encoded data removed]",
      "text/plain": [
       "<Figure size 800x500 with 1 Axes>"
      ]
     },
     "metadata": {},
     "output_type": "display_data"
    }
   ],
   "source": [
    "plot_training_history(history)"
   ]
  },
  {
   "cell_type": "markdown",
   "id": "bd9c013d-f51a-4426-90f1-be92d795a9c3",
   "metadata": {
    "id": "bd9c013d-f51a-4426-90f1-be92d795a9c3"
   },
   "source": [
    "#### Insights from the Plot:\n",
    "- The stability of validation metrics in conjunction with training metrics suggests the model's generalization has improved with the addition of L2 regularization and Dropout.\n",
    "- Recall remains high, which is essential for a stroke prediction model where missing out on true positives could have dire consequences.\n",
    "- The convergence of validation loss at a level comparable to training loss indicates an optimal balance between learning from the training data and maintaining performance on unseen data.\n"
   ]
  },
  {
   "cell_type": "code",
   "execution_count": 32,
   "id": "9a081c15-56b0-4c1a-a3ed-b5ba607954cb",
   "metadata": {
    "colab": {
     "base_uri": "https://localhost:8080/"
    },
    "id": "9a081c15-56b0-4c1a-a3ed-b5ba607954cb",
    "outputId": "ed2516cd-6cce-4b34-a36c-173a2a87698a"
   },
   "outputs": [
    {
     "name": "stdout",
     "output_type": "stream",
     "text": [
      "16/16 [==============================] - 0s 1ms/step - loss: 0.8344 - recall: 0.9091\n"
     ]
    }
   ],
   "source": [
    "test_loss, test_recall = modelReg.evaluate(X_test_scaled, y_test)"
   ]
  },
  {
   "cell_type": "code",
   "execution_count": 33,
   "id": "657b122c-db3f-45e8-a76c-782cdedc3b03",
   "metadata": {
    "colab": {
     "base_uri": "https://localhost:8080/",
     "height": 564
    },
    "id": "657b122c-db3f-45e8-a76c-782cdedc3b03",
    "outputId": "e42af6c5-c702-4878-fead-7c9ac706268e"
   },
   "outputs": [
    {
     "name": "stdout",
     "output_type": "stream",
     "text": [
      "16/16 [==============================] - 0s 768us/step\n"
     ]
    },
    {
     "name": "stderr",
     "output_type": "stream",
     "text": [
      "C:\\Users\\Vlad\\AppData\\Local\\Temp\\ipykernel_20404\\1237922436.py:19: UserWarning: set_ticklabels() should only be used with a fixed number of ticks, i.e. after set_ticks() or using a FixedLocator.\n",
      "  ax.set_xticklabels([''] + ['No Stroke', 'Stroke'])\n",
      "C:\\Users\\Vlad\\AppData\\Local\\Temp\\ipykernel_20404\\1237922436.py:20: UserWarning: set_ticklabels() should only be used with a fixed number of ticks, i.e. after set_ticks() or using a FixedLocator.\n",
      "  ax.set_yticklabels([''] + ['No Stroke', 'Stroke'])\n"
     ]
    },
    {
     "data": {
      "image/png": "[encoded data removed]",
      "text/plain": [
       "<Figure size 640x480 with 2 Axes>"
      ]
     },
     "metadata": {},
     "output_type": "display_data"
    }
   ],
   "source": [
    "plot_confusion_matrix(modelReg)"
   ]
  },
  {
   "cell_type": "code",
   "execution_count": 34,
   "id": "11801103-127a-4a60-8037-0d246b763406",
   "metadata": {
    "colab": {
     "base_uri": "https://localhost:8080/",
     "height": 161
    },
    "id": "11801103-127a-4a60-8037-0d246b763406",
    "outputId": "0f956b8a-363a-4dc8-9bc3-9a5b39c1e0de"
   },
   "outputs": [
    {
     "name": "stdout",
     "output_type": "stream",
     "text": [
      "16/16 [==============================] - 0s 797us/step\n"
     ]
    },
    {
     "data": {
      "text/html": [
       "<div>\n",
       "<style scoped>\n",
       "    .dataframe tbody tr th:only-of-type {\n",
       "        vertical-align: middle;\n",
       "    }\n",
       "\n",
       "    .dataframe tbody tr th {\n",
       "        vertical-align: top;\n",
       "    }\n",
       "\n",
       "    .dataframe thead th {\n",
       "        text-align: right;\n",
       "    }\n",
       "</style>\n",
       "<table border=\"1\" class=\"dataframe\">\n",
       "  <thead>\n",
       "    <tr style=\"text-align: right;\">\n",
       "      <th></th>\n",
       "      <th>Model</th>\n",
       "      <th>Accuracy</th>\n",
       "      <th>Recall</th>\n",
       "      <th>Precision</th>\n",
       "      <th>F1</th>\n",
       "    </tr>\n",
       "  </thead>\n",
       "  <tbody>\n",
       "    <tr>\n",
       "      <th>0</th>\n",
       "      <td>Initial Model</td>\n",
       "      <td>0.736626</td>\n",
       "      <td>0.909091</td>\n",
       "      <td>0.072993</td>\n",
       "      <td>0.135135</td>\n",
       "    </tr>\n",
       "    <tr>\n",
       "      <th>1</th>\n",
       "      <td>Model with Dropout</td>\n",
       "      <td>0.757202</td>\n",
       "      <td>0.909091</td>\n",
       "      <td>0.078740</td>\n",
       "      <td>0.144928</td>\n",
       "    </tr>\n",
       "    <tr>\n",
       "      <th>2</th>\n",
       "      <td>Model with L2</td>\n",
       "      <td>0.722222</td>\n",
       "      <td>0.909091</td>\n",
       "      <td>0.069444</td>\n",
       "      <td>0.129032</td>\n",
       "    </tr>\n",
       "  </tbody>\n",
       "</table>\n",
       "</div>"
      ],
      "text/plain": [
       "                Model  Accuracy    Recall  Precision        F1\n",
       "0       Initial Model  0.736626  0.909091   0.072993  0.135135\n",
       "1  Model with Dropout  0.757202  0.909091   0.078740  0.144928\n",
       "2       Model with L2  0.722222  0.909091   0.069444  0.129032"
      ]
     },
     "execution_count": 34,
     "metadata": {},
     "output_type": "execute_result"
    }
   ],
   "source": [
    "new_data = update_model_metrics(modelReg, \"Model with L2\")\n",
    "df_models = pd.concat([df_models, new_data], ignore_index=True)\n",
    "df_models"
   ]
  },
  {
   "cell_type": "markdown",
   "id": "2dd70b3d-da8e-4eb2-ba82-8461f17d3c60",
   "metadata": {
    "id": "2dd70b3d-da8e-4eb2-ba82-8461f17d3c60"
   },
   "source": [
    "#### Interpretation:\n",
    "This model achieves good F1 score so far without compromising the recall rate."
   ]
  },
  {
   "cell_type": "markdown",
   "id": "bc6939ea-dbce-4a4a-9017-71aad850ccbb",
   "metadata": {
    "id": "bc6939ea-dbce-4a4a-9017-71aad850ccbb"
   },
   "source": [
    "#### Behind the Scenes:\n",
    "In the process of optimizing the model, various regularization techniques were experimented with:\n",
    "- **L1 Regularization**: Initially, L1 regularization was applied in an attempt to introduce sparsity in the weights, which can lead to feature selection. However, this resulted in an increased starting loss function and did not provide tangible benefits during training.\n",
    "- **Combined L1 and L2 Regularization**: A combination of L1 and L2 regularization was tested to see if they could complement each other. Despite this, the combination did not yield improvements and sometimes led to suboptimal training dynamics.\n",
    "- **L2 Regularization**: After trying different regularization strategies, applying only L2 regularization to certain layers was found to be the most effective. It achieved the best balance between model complexity and generalization without adversely impacting the starting loss.\n"
   ]
  },
  {
   "cell_type": "markdown",
   "id": "f4fd8216-c503-4e98-bb61-d730ae44569a",
   "metadata": {
    "id": "f4fd8216-c503-4e98-bb61-d730ae44569a"
   },
   "source": [
    "### Enhancing Batch Normalization"
   ]
  },
  {
   "cell_type": "markdown",
   "id": "935f8882-aa9f-4825-9b15-b88e60b5aae4",
   "metadata": {
    "id": "935f8882-aa9f-4825-9b15-b88e60b5aae4"
   },
   "source": [
    "Batch Normalization (BN) is designed to improve the speed, performance, and stability of deep neural networks by normalizing the layers' inputs. It works by adjusting and scaling the activations, standardizing the inputs to a layer for each mini-batch. This process helps mitigate the problem of internal covariate shift, which refers to the changes in the distribution of network activations due to the update of weights during training.\n",
    "In this neural network model, BN is applied after each Dense layer but before the activation functions. This placement is deliberate; it allows the normalization process to stabilize the distribution of the inputs to the activation functions, leading to improved gradient flow through the network, faster convergence, and potentially better overall performance."
   ]
  },
  {
   "cell_type": "code",
   "execution_count": 35,
   "id": "e3e3c40f-60d1-4562-89ef-634fd03f0452",
   "metadata": {
    "id": "e3e3c40f-60d1-4562-89ef-634fd03f0452"
   },
   "outputs": [],
   "source": [
    "from tensorflow.keras.layers import BatchNormalization, Activation\n",
    "modelNorm = Sequential([\n",
    "    Dense(256, input_shape=(X_train_upsampled.shape[1],)),\n",
    "    BatchNormalization(),\n",
    "    Activation('relu'),\n",
    "    Dropout(0.2),\n",
    "\n",
    "    Dense(128),\n",
    "    BatchNormalization(),\n",
    "    Activation('relu'),\n",
    "    Dropout(0.2),\n",
    "\n",
    "    Dense(64, kernel_regularizer=l2(0.01)),\n",
    "    BatchNormalization(),\n",
    "    Activation('relu'),\n",
    "\n",
    "    Dense(32, kernel_regularizer=l2(0.01)),\n",
    "    BatchNormalization(),\n",
    "    Activation('relu'),\n",
    "\n",
    "    Dense(1, activation='sigmoid')\n",
    "])\n",
    "\n",
    "# Compile the model\n",
    "modelNorm.compile(optimizer=Adam(learning_rate=0.00001),\n",
    "                 loss='binary_crossentropy',\n",
    "                 metrics=[\"Recall\"])"
   ]
  },
  {
   "cell_type": "code",
   "execution_count": 36,
   "id": "4f3e4058-5a20-40c6-9b5c-242da58547f6",
   "metadata": {
    "colab": {
     "base_uri": "https://localhost:8080/"
    },
    "id": "4f3e4058-5a20-40c6-9b5c-242da58547f6",
    "outputId": "312d65d8-8cf8-47a5-a50e-736c6ebce739"
   },
   "outputs": [
    {
     "name": "stdout",
     "output_type": "stream",
     "text": [
      "Epoch 1/120\n",
      "89/89 [==============================] - 2s 4ms/step - loss: 1.9833 - recall: 0.7512 - val_loss: 1.9640 - val_recall: 1.0000\n",
      "Epoch 2/120\n",
      "89/89 [==============================] - 0s 2ms/step - loss: 1.9469 - recall: 0.7918 - val_loss: 1.9538 - val_recall: 0.9888\n",
      "Epoch 3/120\n",
      "89/89 [==============================] - 0s 2ms/step - loss: 1.9101 - recall: 0.8113 - val_loss: 1.9160 - val_recall: 0.9620\n",
      "Epoch 4/120\n",
      "89/89 [==============================] - 0s 2ms/step - loss: 1.8920 - recall: 0.8239 - val_loss: 1.8699 - val_recall: 0.9709\n",
      "Epoch 5/120\n",
      "89/89 [==============================] - 0s 2ms/step - loss: 1.8599 - recall: 0.8386 - val_loss: 1.8366 - val_recall: 0.9396\n",
      "Epoch 6/120\n",
      "89/89 [==============================] - 0s 2ms/step - loss: 1.8488 - recall: 0.8526 - val_loss: 1.8154 - val_recall: 0.9396\n",
      "Epoch 7/120\n",
      "89/89 [==============================] - 0s 2ms/step - loss: 1.8250 - recall: 0.8498 - val_loss: 1.7984 - val_recall: 0.9396\n",
      "Epoch 8/120\n",
      "89/89 [==============================] - 0s 2ms/step - loss: 1.8073 - recall: 0.8526 - val_loss: 1.7841 - val_recall: 0.9396\n",
      "Epoch 9/120\n",
      "89/89 [==============================] - 0s 2ms/step - loss: 1.7907 - recall: 0.8581 - val_loss: 1.7697 - val_recall: 0.9396\n",
      "Epoch 10/120\n",
      "89/89 [==============================] - 0s 2ms/step - loss: 1.7857 - recall: 0.8449 - val_loss: 1.7601 - val_recall: 0.9396\n",
      "Epoch 11/120\n",
      "89/89 [==============================] - 0s 2ms/step - loss: 1.7671 - recall: 0.8560 - val_loss: 1.7453 - val_recall: 0.9396\n",
      "Epoch 12/120\n",
      "89/89 [==============================] - 0s 2ms/step - loss: 1.7605 - recall: 0.8560 - val_loss: 1.7353 - val_recall: 0.9396\n",
      "Epoch 13/120\n",
      "89/89 [==============================] - 0s 2ms/step - loss: 1.7443 - recall: 0.8595 - val_loss: 1.7225 - val_recall: 0.9195\n",
      "Epoch 14/120\n",
      "89/89 [==============================] - 0s 2ms/step - loss: 1.7351 - recall: 0.8532 - val_loss: 1.7123 - val_recall: 0.9195\n",
      "Epoch 15/120\n",
      "89/89 [==============================] - 0s 2ms/step - loss: 1.7223 - recall: 0.8526 - val_loss: 1.7028 - val_recall: 0.9060\n",
      "Epoch 16/120\n",
      "89/89 [==============================] - 0s 3ms/step - loss: 1.7208 - recall: 0.8379 - val_loss: 1.6936 - val_recall: 0.9060\n",
      "Epoch 17/120\n",
      "89/89 [==============================] - 0s 3ms/step - loss: 1.7098 - recall: 0.8519 - val_loss: 1.6887 - val_recall: 0.9239\n",
      "Epoch 18/120\n",
      "89/89 [==============================] - 0s 3ms/step - loss: 1.7033 - recall: 0.8498 - val_loss: 1.6815 - val_recall: 0.9374\n",
      "Epoch 19/120\n",
      "89/89 [==============================] - 0s 2ms/step - loss: 1.6906 - recall: 0.8470 - val_loss: 1.6721 - val_recall: 0.9441\n",
      "Epoch 20/120\n",
      "89/89 [==============================] - 0s 3ms/step - loss: 1.6849 - recall: 0.8532 - val_loss: 1.6629 - val_recall: 0.9239\n",
      "Epoch 21/120\n",
      "89/89 [==============================] - 0s 3ms/step - loss: 1.6723 - recall: 0.8630 - val_loss: 1.6573 - val_recall: 0.9441\n",
      "Epoch 22/120\n",
      "89/89 [==============================] - 0s 2ms/step - loss: 1.6701 - recall: 0.8491 - val_loss: 1.6499 - val_recall: 0.9441\n",
      "Epoch 23/120\n",
      "89/89 [==============================] - 0s 3ms/step - loss: 1.6623 - recall: 0.8532 - val_loss: 1.6395 - val_recall: 0.9441\n",
      "Epoch 24/120\n",
      "89/89 [==============================] - 0s 2ms/step - loss: 1.6440 - recall: 0.8491 - val_loss: 1.6292 - val_recall: 0.9239\n",
      "Epoch 25/120\n",
      "89/89 [==============================] - 0s 2ms/step - loss: 1.6509 - recall: 0.8428 - val_loss: 1.6223 - val_recall: 0.9664\n",
      "Epoch 26/120\n",
      "89/89 [==============================] - 0s 2ms/step - loss: 1.6398 - recall: 0.8428 - val_loss: 1.6175 - val_recall: 0.9664\n",
      "Epoch 27/120\n",
      "89/89 [==============================] - 0s 2ms/step - loss: 1.6339 - recall: 0.8421 - val_loss: 1.6104 - val_recall: 0.9799\n",
      "Epoch 28/120\n",
      "89/89 [==============================] - 0s 2ms/step - loss: 1.6176 - recall: 0.8560 - val_loss: 1.6011 - val_recall: 0.9799\n",
      "Epoch 29/120\n",
      "89/89 [==============================] - 0s 2ms/step - loss: 1.6173 - recall: 0.8484 - val_loss: 1.5944 - val_recall: 0.9799\n",
      "Epoch 30/120\n",
      "89/89 [==============================] - 0s 2ms/step - loss: 1.6098 - recall: 0.8519 - val_loss: 1.5846 - val_recall: 0.9664\n",
      "Epoch 31/120\n",
      "89/89 [==============================] - 0s 2ms/step - loss: 1.6007 - recall: 0.8449 - val_loss: 1.5817 - val_recall: 0.9664\n",
      "Epoch 32/120\n",
      "89/89 [==============================] - 0s 2ms/step - loss: 1.5961 - recall: 0.8477 - val_loss: 1.5733 - val_recall: 0.9664\n",
      "Epoch 33/120\n",
      "89/89 [==============================] - 0s 2ms/step - loss: 1.5956 - recall: 0.8407 - val_loss: 1.5653 - val_recall: 0.9664\n",
      "Epoch 34/120\n",
      "89/89 [==============================] - 0s 2ms/step - loss: 1.5955 - recall: 0.8372 - val_loss: 1.5573 - val_recall: 0.9441\n",
      "Epoch 35/120\n",
      "89/89 [==============================] - 0s 2ms/step - loss: 1.5747 - recall: 0.8498 - val_loss: 1.5512 - val_recall: 0.9664\n",
      "Epoch 36/120\n",
      "89/89 [==============================] - 0s 2ms/step - loss: 1.5690 - recall: 0.8470 - val_loss: 1.5435 - val_recall: 0.9664\n",
      "Epoch 37/120\n",
      "89/89 [==============================] - 0s 2ms/step - loss: 1.5588 - recall: 0.8588 - val_loss: 1.5392 - val_recall: 0.9664\n",
      "Epoch 38/120\n",
      "89/89 [==============================] - 0s 2ms/step - loss: 1.5652 - recall: 0.8400 - val_loss: 1.5297 - val_recall: 0.9664\n",
      "Epoch 39/120\n",
      "89/89 [==============================] - 0s 2ms/step - loss: 1.5542 - recall: 0.8442 - val_loss: 1.5257 - val_recall: 0.9664\n",
      "Epoch 40/120\n",
      "89/89 [==============================] - 0s 2ms/step - loss: 1.5460 - recall: 0.8484 - val_loss: 1.5193 - val_recall: 0.9664\n",
      "Epoch 41/120\n",
      "89/89 [==============================] - 0s 2ms/step - loss: 1.5330 - recall: 0.8539 - val_loss: 1.5114 - val_recall: 0.9664\n",
      "Epoch 42/120\n",
      "89/89 [==============================] - 0s 3ms/step - loss: 1.5229 - recall: 0.8526 - val_loss: 1.5069 - val_recall: 0.9664\n",
      "Epoch 43/120\n",
      "89/89 [==============================] - 0s 2ms/step - loss: 1.5323 - recall: 0.8491 - val_loss: 1.5001 - val_recall: 0.9664\n",
      "Epoch 44/120\n",
      "89/89 [==============================] - 0s 2ms/step - loss: 1.5238 - recall: 0.8470 - val_loss: 1.4899 - val_recall: 0.9664\n",
      "Epoch 45/120\n",
      "89/89 [==============================] - 0s 2ms/step - loss: 1.5091 - recall: 0.8609 - val_loss: 1.4825 - val_recall: 0.9664\n",
      "Epoch 46/120\n",
      "89/89 [==============================] - 0s 2ms/step - loss: 1.5052 - recall: 0.8553 - val_loss: 1.4746 - val_recall: 0.9664\n",
      "Epoch 47/120\n",
      "89/89 [==============================] - 0s 2ms/step - loss: 1.5007 - recall: 0.8393 - val_loss: 1.4719 - val_recall: 0.9664\n",
      "Epoch 48/120\n",
      "89/89 [==============================] - 0s 2ms/step - loss: 1.4913 - recall: 0.8588 - val_loss: 1.4635 - val_recall: 0.9664\n",
      "Epoch 49/120\n",
      "89/89 [==============================] - 0s 2ms/step - loss: 1.4824 - recall: 0.8700 - val_loss: 1.4569 - val_recall: 0.9664\n",
      "Epoch 50/120\n",
      "89/89 [==============================] - 0s 2ms/step - loss: 1.4852 - recall: 0.8484 - val_loss: 1.4520 - val_recall: 0.9664\n",
      "Epoch 51/120\n",
      "89/89 [==============================] - 0s 2ms/step - loss: 1.4827 - recall: 0.8456 - val_loss: 1.4464 - val_recall: 0.9664\n",
      "Epoch 52/120\n",
      "89/89 [==============================] - 0s 2ms/step - loss: 1.4778 - recall: 0.8505 - val_loss: 1.4397 - val_recall: 0.9664\n",
      "Epoch 53/120\n",
      "89/89 [==============================] - 0s 2ms/step - loss: 1.4611 - recall: 0.8581 - val_loss: 1.4351 - val_recall: 0.9664\n",
      "Epoch 54/120\n",
      "89/89 [==============================] - 0s 2ms/step - loss: 1.4614 - recall: 0.8421 - val_loss: 1.4284 - val_recall: 0.9664\n",
      "Epoch 55/120\n",
      "89/89 [==============================] - 0s 2ms/step - loss: 1.4461 - recall: 0.8651 - val_loss: 1.4213 - val_recall: 0.9664\n",
      "Epoch 56/120\n",
      "89/89 [==============================] - 0s 2ms/step - loss: 1.4473 - recall: 0.8470 - val_loss: 1.4155 - val_recall: 0.9664\n",
      "Epoch 57/120\n",
      "89/89 [==============================] - 0s 2ms/step - loss: 1.4345 - recall: 0.8721 - val_loss: 1.4099 - val_recall: 0.9664\n",
      "Epoch 58/120\n",
      "89/89 [==============================] - 0s 3ms/step - loss: 1.4417 - recall: 0.8526 - val_loss: 1.4062 - val_recall: 0.9664\n",
      "Epoch 59/120\n",
      "89/89 [==============================] - 0s 3ms/step - loss: 1.4367 - recall: 0.8532 - val_loss: 1.3980 - val_recall: 0.9664\n",
      "Epoch 60/120\n",
      "89/89 [==============================] - 0s 2ms/step - loss: 1.4294 - recall: 0.8484 - val_loss: 1.3966 - val_recall: 0.9664\n",
      "Epoch 61/120\n",
      "89/89 [==============================] - 0s 2ms/step - loss: 1.4253 - recall: 0.8532 - val_loss: 1.3886 - val_recall: 0.9664\n",
      "Epoch 62/120\n",
      "89/89 [==============================] - 0s 2ms/step - loss: 1.4093 - recall: 0.8728 - val_loss: 1.3808 - val_recall: 0.9664\n",
      "Epoch 63/120\n",
      "89/89 [==============================] - 0s 2ms/step - loss: 1.4167 - recall: 0.8484 - val_loss: 1.3776 - val_recall: 0.9664\n",
      "Epoch 64/120\n",
      "89/89 [==============================] - 0s 2ms/step - loss: 1.3974 - recall: 0.8644 - val_loss: 1.3692 - val_recall: 0.9664\n",
      "Epoch 65/120\n",
      "89/89 [==============================] - 0s 2ms/step - loss: 1.3960 - recall: 0.8707 - val_loss: 1.3635 - val_recall: 0.9664\n",
      "Epoch 66/120\n",
      "89/89 [==============================] - 0s 2ms/step - loss: 1.3956 - recall: 0.8665 - val_loss: 1.3588 - val_recall: 0.9664\n",
      "Epoch 67/120\n",
      "89/89 [==============================] - 0s 3ms/step - loss: 1.3791 - recall: 0.8700 - val_loss: 1.3556 - val_recall: 0.9664\n",
      "Epoch 68/120\n",
      "89/89 [==============================] - 0s 3ms/step - loss: 1.3822 - recall: 0.8560 - val_loss: 1.3468 - val_recall: 0.9664\n",
      "Epoch 69/120\n",
      "89/89 [==============================] - 0s 3ms/step - loss: 1.3799 - recall: 0.8623 - val_loss: 1.3417 - val_recall: 0.9664\n",
      "Epoch 70/120\n",
      "89/89 [==============================] - 0s 3ms/step - loss: 1.3704 - recall: 0.8546 - val_loss: 1.3366 - val_recall: 0.9664\n",
      "Epoch 71/120\n",
      "89/89 [==============================] - 0s 2ms/step - loss: 1.3600 - recall: 0.8609 - val_loss: 1.3300 - val_recall: 0.9664\n",
      "Epoch 72/120\n",
      "89/89 [==============================] - 0s 3ms/step - loss: 1.3578 - recall: 0.8714 - val_loss: 1.3233 - val_recall: 0.9664\n",
      "Epoch 73/120\n",
      "89/89 [==============================] - 0s 2ms/step - loss: 1.3474 - recall: 0.8707 - val_loss: 1.3221 - val_recall: 0.9664\n",
      "Epoch 74/120\n",
      "89/89 [==============================] - 0s 2ms/step - loss: 1.3581 - recall: 0.8707 - val_loss: 1.3135 - val_recall: 0.9664\n",
      "Epoch 75/120\n",
      "89/89 [==============================] - 0s 3ms/step - loss: 1.3459 - recall: 0.8707 - val_loss: 1.3076 - val_recall: 0.9664\n",
      "Epoch 76/120\n",
      "89/89 [==============================] - 0s 3ms/step - loss: 1.3317 - recall: 0.8742 - val_loss: 1.3036 - val_recall: 0.9776\n",
      "Epoch 77/120\n",
      "89/89 [==============================] - 0s 3ms/step - loss: 1.3262 - recall: 0.8714 - val_loss: 1.2990 - val_recall: 0.9776\n",
      "Epoch 78/120\n",
      "89/89 [==============================] - 0s 3ms/step - loss: 1.3277 - recall: 0.8526 - val_loss: 1.2938 - val_recall: 0.9776\n",
      "Epoch 79/120\n",
      "89/89 [==============================] - 0s 3ms/step - loss: 1.3234 - recall: 0.8672 - val_loss: 1.2879 - val_recall: 0.9776\n",
      "Epoch 80/120\n",
      "89/89 [==============================] - 0s 3ms/step - loss: 1.3103 - recall: 0.8791 - val_loss: 1.2830 - val_recall: 0.9776\n",
      "Epoch 81/120\n",
      "89/89 [==============================] - 0s 3ms/step - loss: 1.3184 - recall: 0.8616 - val_loss: 1.2790 - val_recall: 0.9776\n",
      "Epoch 82/120\n",
      "89/89 [==============================] - 0s 3ms/step - loss: 1.3056 - recall: 0.8700 - val_loss: 1.2728 - val_recall: 0.9776\n",
      "Epoch 83/120\n",
      "89/89 [==============================] - 0s 3ms/step - loss: 1.3010 - recall: 0.8679 - val_loss: 1.2667 - val_recall: 0.9776\n",
      "Epoch 84/120\n",
      "89/89 [==============================] - 0s 3ms/step - loss: 1.3070 - recall: 0.8567 - val_loss: 1.2603 - val_recall: 0.9866\n",
      "Epoch 85/120\n",
      "89/89 [==============================] - 0s 3ms/step - loss: 1.2826 - recall: 0.8784 - val_loss: 1.2555 - val_recall: 0.9866\n",
      "Epoch 86/120\n",
      "89/89 [==============================] - 0s 3ms/step - loss: 1.2828 - recall: 0.8728 - val_loss: 1.2535 - val_recall: 0.9866\n",
      "Epoch 87/120\n",
      "89/89 [==============================] - 0s 3ms/step - loss: 1.2752 - recall: 0.8798 - val_loss: 1.2491 - val_recall: 0.9866\n",
      "Epoch 88/120\n",
      "89/89 [==============================] - 0s 3ms/step - loss: 1.2854 - recall: 0.8735 - val_loss: 1.2423 - val_recall: 0.9866\n",
      "Epoch 89/120\n",
      "89/89 [==============================] - 0s 3ms/step - loss: 1.2682 - recall: 0.8945 - val_loss: 1.2373 - val_recall: 0.9866\n",
      "Epoch 90/120\n",
      "89/89 [==============================] - 0s 3ms/step - loss: 1.2585 - recall: 0.8770 - val_loss: 1.2345 - val_recall: 0.9866\n",
      "Epoch 91/120\n",
      "89/89 [==============================] - 0s 3ms/step - loss: 1.2621 - recall: 0.8707 - val_loss: 1.2264 - val_recall: 0.9866\n",
      "Epoch 92/120\n",
      "89/89 [==============================] - 0s 3ms/step - loss: 1.2542 - recall: 0.8763 - val_loss: 1.2235 - val_recall: 0.9866\n",
      "Epoch 93/120\n",
      "89/89 [==============================] - 0s 3ms/step - loss: 1.2532 - recall: 0.8686 - val_loss: 1.2193 - val_recall: 0.9866\n",
      "Epoch 94/120\n",
      "89/89 [==============================] - 0s 3ms/step - loss: 1.2453 - recall: 0.8784 - val_loss: 1.2146 - val_recall: 0.9866\n",
      "Epoch 95/120\n",
      "89/89 [==============================] - 0s 3ms/step - loss: 1.2422 - recall: 0.8777 - val_loss: 1.2100 - val_recall: 0.9866\n",
      "Epoch 96/120\n",
      "89/89 [==============================] - 0s 3ms/step - loss: 1.2427 - recall: 0.8623 - val_loss: 1.2034 - val_recall: 0.9866\n",
      "Epoch 97/120\n",
      "89/89 [==============================] - 0s 3ms/step - loss: 1.2351 - recall: 0.8707 - val_loss: 1.1996 - val_recall: 0.9866\n",
      "Epoch 98/120\n",
      "89/89 [==============================] - 0s 2ms/step - loss: 1.2394 - recall: 0.8728 - val_loss: 1.1911 - val_recall: 0.9866\n",
      "Epoch 99/120\n",
      "89/89 [==============================] - 0s 2ms/step - loss: 1.2269 - recall: 0.8770 - val_loss: 1.1883 - val_recall: 0.9866\n",
      "Epoch 100/120\n",
      "89/89 [==============================] - 0s 2ms/step - loss: 1.2192 - recall: 0.8826 - val_loss: 1.1847 - val_recall: 0.9866\n",
      "Epoch 101/120\n",
      "89/89 [==============================] - 0s 3ms/step - loss: 1.2060 - recall: 0.8952 - val_loss: 1.1802 - val_recall: 0.9866\n",
      "Epoch 102/120\n",
      "89/89 [==============================] - 0s 3ms/step - loss: 1.2177 - recall: 0.8889 - val_loss: 1.1755 - val_recall: 0.9866\n",
      "Epoch 103/120\n",
      "89/89 [==============================] - 0s 3ms/step - loss: 1.2130 - recall: 0.8742 - val_loss: 1.1690 - val_recall: 0.9866\n",
      "Epoch 104/120\n",
      "89/89 [==============================] - 0s 2ms/step - loss: 1.2059 - recall: 0.8833 - val_loss: 1.1678 - val_recall: 0.9866\n",
      "Epoch 105/120\n",
      "89/89 [==============================] - 0s 2ms/step - loss: 1.1950 - recall: 0.8910 - val_loss: 1.1610 - val_recall: 0.9866\n",
      "Epoch 106/120\n",
      "89/89 [==============================] - 0s 2ms/step - loss: 1.1902 - recall: 0.8812 - val_loss: 1.1569 - val_recall: 0.9866\n",
      "Epoch 107/120\n",
      "89/89 [==============================] - 0s 3ms/step - loss: 1.2072 - recall: 0.8735 - val_loss: 1.1550 - val_recall: 0.9866\n",
      "Epoch 108/120\n",
      "89/89 [==============================] - 0s 3ms/step - loss: 1.1883 - recall: 0.8847 - val_loss: 1.1496 - val_recall: 0.9866\n",
      "Epoch 109/120\n",
      "89/89 [==============================] - 0s 2ms/step - loss: 1.1915 - recall: 0.8791 - val_loss: 1.1461 - val_recall: 0.9866\n",
      "Epoch 110/120\n",
      "89/89 [==============================] - 0s 2ms/step - loss: 1.1836 - recall: 0.8798 - val_loss: 1.1419 - val_recall: 0.9866\n",
      "Epoch 111/120\n",
      "89/89 [==============================] - 0s 3ms/step - loss: 1.1694 - recall: 0.8903 - val_loss: 1.1395 - val_recall: 0.9866\n",
      "Epoch 112/120\n",
      "89/89 [==============================] - 0s 3ms/step - loss: 1.1656 - recall: 0.8777 - val_loss: 1.1333 - val_recall: 0.9866\n",
      "Epoch 113/120\n",
      "89/89 [==============================] - 0s 2ms/step - loss: 1.1654 - recall: 0.8875 - val_loss: 1.1300 - val_recall: 0.9866\n",
      "Epoch 114/120\n",
      "89/89 [==============================] - 0s 2ms/step - loss: 1.1664 - recall: 0.8826 - val_loss: 1.1253 - val_recall: 0.9866\n",
      "Epoch 115/120\n",
      "89/89 [==============================] - 0s 3ms/step - loss: 1.1564 - recall: 0.8889 - val_loss: 1.1192 - val_recall: 0.9866\n",
      "Epoch 116/120\n",
      "89/89 [==============================] - 0s 2ms/step - loss: 1.1462 - recall: 0.8994 - val_loss: 1.1136 - val_recall: 0.9866\n",
      "Epoch 117/120\n",
      "89/89 [==============================] - 0s 3ms/step - loss: 1.1550 - recall: 0.8868 - val_loss: 1.1102 - val_recall: 0.9866\n",
      "Epoch 118/120\n",
      "89/89 [==============================] - 0s 2ms/step - loss: 1.1462 - recall: 0.8742 - val_loss: 1.1097 - val_recall: 0.9866\n",
      "Epoch 119/120\n",
      "89/89 [==============================] - 0s 2ms/step - loss: 1.1432 - recall: 0.8833 - val_loss: 1.1074 - val_recall: 0.9866\n",
      "Epoch 120/120\n",
      "89/89 [==============================] - 0s 3ms/step - loss: 1.1394 - recall: 0.8875 - val_loss: 1.0994 - val_recall: 0.9866\n"
     ]
    }
   ],
   "source": [
    "history = modelNorm.fit(X_train, y_train, epochs=120, validation_data=(X_val, y_val), callbacks=[stop_early])"
   ]
  },
  {
   "cell_type": "code",
   "execution_count": 37,
   "id": "6508f5a7-3e1d-4102-a3d0-c938acadaf5c",
   "metadata": {
    "colab": {
     "base_uri": "https://localhost:8080/",
     "height": 470
    },
    "id": "6508f5a7-3e1d-4102-a3d0-c938acadaf5c",
    "outputId": "a37f66e1-7176-4f30-edb2-100c28c5fddf"
   },
   "outputs": [
    {
     "data": {
      "image/png": "[encoded data removed]",
      "text/plain": [
       "<Figure size 800x500 with 1 Axes>"
      ]
     },
     "metadata": {},
     "output_type": "display_data"
    }
   ],
   "source": [
    "plot_training_history(history)"
   ]
  },
  {
   "cell_type": "code",
   "execution_count": 38,
   "id": "ee7429cc-f5b2-41e5-afb6-60710d06df75",
   "metadata": {
    "colab": {
     "base_uri": "https://localhost:8080/"
    },
    "id": "ee7429cc-f5b2-41e5-afb6-60710d06df75",
    "outputId": "e4e056a3-9c17-4e1f-8e80-2deeace2ba4b"
   },
   "outputs": [
    {
     "name": "stdout",
     "output_type": "stream",
     "text": [
      "16/16 [==============================] - 0s 1ms/step - loss: 1.2554 - recall: 0.8182\n"
     ]
    }
   ],
   "source": [
    "test_loss, test_recall = modelNorm.evaluate(X_test_scaled, y_test)"
   ]
  },
  {
   "cell_type": "code",
   "execution_count": 39,
   "id": "886cf265-9d71-4f66-93a2-003caab4ea89",
   "metadata": {
    "colab": {
     "base_uri": "https://localhost:8080/",
     "height": 564
    },
    "id": "886cf265-9d71-4f66-93a2-003caab4ea89",
    "outputId": "90bb269d-8b73-4dd8-9c0f-a212bb5ea4f7"
   },
   "outputs": [
    {
     "name": "stdout",
     "output_type": "stream",
     "text": [
      "16/16 [==============================] - 0s 930us/step\n"
     ]
    },
    {
     "name": "stderr",
     "output_type": "stream",
     "text": [
      "C:\\Users\\Vlad\\AppData\\Local\\Temp\\ipykernel_20404\\1237922436.py:19: UserWarning: set_ticklabels() should only be used with a fixed number of ticks, i.e. after set_ticks() or using a FixedLocator.\n",
      "  ax.set_xticklabels([''] + ['No Stroke', 'Stroke'])\n",
      "C:\\Users\\Vlad\\AppData\\Local\\Temp\\ipykernel_20404\\1237922436.py:20: UserWarning: set_ticklabels() should only be used with a fixed number of ticks, i.e. after set_ticks() or using a FixedLocator.\n",
      "  ax.set_yticklabels([''] + ['No Stroke', 'Stroke'])\n"
     ]
    },
    {
     "data": {
      "image/png": "[encoded data removed]",
      "text/plain": [
       "<Figure size 640x480 with 2 Axes>"
      ]
     },
     "metadata": {},
     "output_type": "display_data"
    }
   ],
   "source": [
    "plot_confusion_matrix(modelNorm)"
   ]
  },
  {
   "cell_type": "code",
   "execution_count": 40,
   "id": "6616f204-a0dd-44ee-afa0-55273f89801c",
   "metadata": {
    "colab": {
     "base_uri": "https://localhost:8080/",
     "height": 192
    },
    "id": "6616f204-a0dd-44ee-afa0-55273f89801c",
    "outputId": "0c2fc683-4dae-4d3c-e812-ab747d31c452"
   },
   "outputs": [
    {
     "name": "stdout",
     "output_type": "stream",
     "text": [
      "16/16 [==============================] - 0s 1ms/step\n"
     ]
    },
    {
     "data": {
      "text/html": [
       "<div>\n",
       "<style scoped>\n",
       "    .dataframe tbody tr th:only-of-type {\n",
       "        vertical-align: middle;\n",
       "    }\n",
       "\n",
       "    .dataframe tbody tr th {\n",
       "        vertical-align: top;\n",
       "    }\n",
       "\n",
       "    .dataframe thead th {\n",
       "        text-align: right;\n",
       "    }\n",
       "</style>\n",
       "<table border=\"1\" class=\"dataframe\">\n",
       "  <thead>\n",
       "    <tr style=\"text-align: right;\">\n",
       "      <th></th>\n",
       "      <th>Model</th>\n",
       "      <th>Accuracy</th>\n",
       "      <th>Recall</th>\n",
       "      <th>Precision</th>\n",
       "      <th>F1</th>\n",
       "    </tr>\n",
       "  </thead>\n",
       "  <tbody>\n",
       "    <tr>\n",
       "      <th>0</th>\n",
       "      <td>Initial Model</td>\n",
       "      <td>0.736626</td>\n",
       "      <td>0.909091</td>\n",
       "      <td>0.072993</td>\n",
       "      <td>0.135135</td>\n",
       "    </tr>\n",
       "    <tr>\n",
       "      <th>1</th>\n",
       "      <td>Model with Dropout</td>\n",
       "      <td>0.757202</td>\n",
       "      <td>0.909091</td>\n",
       "      <td>0.078740</td>\n",
       "      <td>0.144928</td>\n",
       "    </tr>\n",
       "    <tr>\n",
       "      <th>2</th>\n",
       "      <td>Model with L2</td>\n",
       "      <td>0.722222</td>\n",
       "      <td>0.909091</td>\n",
       "      <td>0.069444</td>\n",
       "      <td>0.129032</td>\n",
       "    </tr>\n",
       "    <tr>\n",
       "      <th>3</th>\n",
       "      <td>Model with Batch Normalisation</td>\n",
       "      <td>0.720165</td>\n",
       "      <td>0.818182</td>\n",
       "      <td>0.062937</td>\n",
       "      <td>0.116883</td>\n",
       "    </tr>\n",
       "  </tbody>\n",
       "</table>\n",
       "</div>"
      ],
      "text/plain": [
       "                            Model  Accuracy    Recall  Precision        F1\n",
       "0                   Initial Model  0.736626  0.909091   0.072993  0.135135\n",
       "1              Model with Dropout  0.757202  0.909091   0.078740  0.144928\n",
       "2                   Model with L2  0.722222  0.909091   0.069444  0.129032\n",
       "3  Model with Batch Normalisation  0.720165  0.818182   0.062937  0.116883"
      ]
     },
     "execution_count": 40,
     "metadata": {},
     "output_type": "execute_result"
    }
   ],
   "source": [
    "new_data = update_model_metrics(modelNorm, \"Model with Batch Normalisation\")\n",
    "df_models = pd.concat([df_models, new_data], ignore_index=True)\n",
    "df_models"
   ]
  },
  {
   "cell_type": "markdown",
   "id": "eccc10a3-5db5-4930-8bb2-5da20c4fa880",
   "metadata": {
    "id": "eccc10a3-5db5-4930-8bb2-5da20c4fa880"
   },
   "source": [
    "#### Interpretation:\n",
    "The table shows that the model with Batch Normalization has the lowest scores among all models tested so far in terms of both F1 score and overall accuracy"
   ]
  },
  {
   "cell_type": "markdown",
   "id": "059dcfda-857c-4058-8b39-c344f3653952",
   "metadata": {
    "id": "059dcfda-857c-4058-8b39-c344f3653952"
   },
   "source": [
    "#### Behind the Scenes:\n",
    "Several approaches to implementing Batch Normalization were experimented with:\n",
    "1. Applying Batch Normalization after each layer without dropout led to the worst performance, potentially due to overfitting.\n",
    "2. Combining Batch Normalization with dropout as used in prior models resulted in better outcomes but not optimal.\n",
    "3. The current configuration with Batch Normalization applied after the 3rd and 4th layers shows improvement, yet it still underperforms compared to other models.\n",
    "\n",
    "\n",
    "A potential reason for the decreased performance with Batch Normalization could be that the data was already normalized before training. Consequently, additional normalization within the layers might not have been beneficial and could have even hindered the model's learning."
   ]
  },
  {
   "cell_type": "markdown",
   "id": "5882ab0e-98a8-4c41-8aef-d2417492f478",
   "metadata": {
    "id": "5882ab0e-98a8-4c41-8aef-d2417492f478"
   },
   "source": [
    "### Hyperparameter Optimization with Hyperband and F1 Score Metric"
   ]
  },
  {
   "cell_type": "markdown",
   "id": "6f4eceb6-56ea-445d-816b-7d7261d6eb6d",
   "metadata": {
    "id": "6f4eceb6-56ea-445d-816b-7d7261d6eb6d"
   },
   "source": [
    "The Hyperband tuner is an optimization algorithm that uses adaptive resource allocation and early-stopping to quickly converge on a high-performing model architecture."
   ]
  },
  {
   "cell_type": "markdown",
   "id": "5fa2c67e-8b26-4f9f-b1bd-2359788cba65",
   "metadata": {
    "id": "5fa2c67e-8b26-4f9f-b1bd-2359788cba65"
   },
   "source": [
    "#### Behind the Scenes:\n",
    "The Hyperband tuner was run multiple times, initially targeting recall and precision metrics separately. However, the models tended to overfit quickly, with learned parameters not generalizing well to unseen data. By focusing the Hyperband tuner on optimizing for F1 Score, we aim to find a balance between precision and recall, thereby improving model generalization."
   ]
  },
  {
   "cell_type": "markdown",
   "id": "5cd8af70-c796-4808-8e80-4899ba0bdf98",
   "metadata": {
    "id": "5cd8af70-c796-4808-8e80-4899ba0bdf98"
   },
   "source": [
    "#### Custom F1 Score Metric Implementation\n",
    "To use F1 Score as the main validation metric for the Hyperband tuner, we first need to define it as a custom metric in TensorFlow. The F1 Score is the harmonic mean of precision and recall, providing a balance between the two.."
   ]
  },
  {
   "cell_type": "code",
   "execution_count": 41,
   "id": "5c19ba24-d39b-4d86-b858-f363d3018550",
   "metadata": {
    "id": "5c19ba24-d39b-4d86-b858-f363d3018550"
   },
   "outputs": [],
   "source": [
    "class F1Score(tf.keras.metrics.Metric):\n",
    "    def __init__(self, name='f1_score', **kwargs):\n",
    "        super(F1Score, self).__init__(name=name, **kwargs)\n",
    "        self.precision = tf.keras.metrics.Precision()\n",
    "        self.recall = tf.keras.metrics.Recall()\n",
    "\n",
    "    def update_state(self, y_true, y_pred, sample_weight=None):\n",
    "        self.precision.update_state(y_true, y_pred, sample_weight)\n",
    "        self.recall.update_state(y_true, y_pred, sample_weight)\n",
    "\n",
    "    def result(self):\n",
    "        precision = self.precision.result()\n",
    "        recall = self.recall.result()\n",
    "        f1 = 2 * ((precision * recall) / (precision + recall + tf.keras.backend.epsilon()))\n",
    "        return f1\n",
    "\n",
    "    def reset_states(self):\n",
    "        self.precision.reset_states()\n",
    "        self.recall.reset_states()\n"
   ]
  },
  {
   "cell_type": "code",
   "execution_count": 42,
   "id": "2a4d4a94-5909-4731-bdd9-9e1cb77fb15b",
   "metadata": {
    "id": "2a4d4a94-5909-4731-bdd9-9e1cb77fb15b"
   },
   "outputs": [],
   "source": [
    "def build_model(hp):\n",
    "    model = Sequential()\n",
    "    # Add the input layer with L2 regularization\n",
    "    model.add(Dense(units=hp.Int('units_input', min_value=32, max_value=256, step=32),\n",
    "                    activation='relu', input_shape=(X_train_upsampled.shape[1],),\n",
    "                    kernel_regularizer=l2(hp.Float('l2_input', min_value=1e-4, max_value=1e-2, sampling='log'))))\n",
    "    model.add(Dropout(rate=hp.Float('dropout_input', min_value=0, max_value=0.5, step=0.1)))\n",
    "\n",
    "    # Add hidden layers with L2 regularization\n",
    "    for i in range(hp.Int('num_layers', 1, 5)):\n",
    "        model.add(Dense(units=hp.Int(f'units_{i}', min_value=16, max_value=256, step=32),\n",
    "                        activation='relu',\n",
    "                        kernel_regularizer=l2(hp.Float(f'l2_{i}', min_value=1e-4, max_value=1e-2, sampling='log'))))\n",
    "        # Add a Dropout layer after each Dense layer\n",
    "        model.add(Dropout(rate=hp.Float(f'dropout_{i}', min_value=0, max_value=0.5, step=0.1)))\n",
    "\n",
    "    # Add the output layer\n",
    "    model.add(Dense(1, activation='sigmoid'))\n",
    "\n",
    "    # Compile the model\n",
    "    model.compile(optimizer=Adam(hp.Float('learning_rate', min_value=1e-5, max_value=1e-4, sampling='log')),\n",
    "                  loss='binary_crossentropy',\n",
    "                  metrics=[F1Score()])\n",
    "    return model"
   ]
  },
  {
   "cell_type": "code",
   "execution_count": 43,
   "id": "be8e84eb-f928-47a9-aeb0-acc77ce58634",
   "metadata": {
    "id": "be8e84eb-f928-47a9-aeb0-acc77ce58634"
   },
   "outputs": [],
   "source": [
    "objective = kt.Objective(\"f1_score\", direction=\"max\")\n",
    "tuner = kt.Hyperband(build_model,\n",
    "                     objective=objective,\n",
    "                     max_epochs=10,\n",
    "                     factor=3,\n",
    "                     hyperband_iterations=2,\n",
    "                     overwrite=True,\n",
    "                     directory='my_dir',\n",
    "                     project_name='stroke_prediction')"
   ]
  },
  {
   "cell_type": "code",
   "execution_count": 44,
   "id": "47036f1e-3d35-47db-88f9-5fdf2b36c229",
   "metadata": {
    "id": "47036f1e-3d35-47db-88f9-5fdf2b36c229"
   },
   "outputs": [],
   "source": [
    "stop_early = tf.keras.callbacks.EarlyStopping(monitor='val_loss', patience=3)"
   ]
  },
  {
   "cell_type": "code",
   "execution_count": 45,
   "id": "86cd8bd7-acee-47b7-8be8-19519817ea03",
   "metadata": {
    "colab": {
     "base_uri": "https://localhost:8080/"
    },
    "id": "86cd8bd7-acee-47b7-8be8-19519817ea03",
    "outputId": "0f005486-0d66-4630-f4fd-b0cde2981540"
   },
   "outputs": [
    {
     "name": "stdout",
     "output_type": "stream",
     "text": [
      "Trial 60 Complete [00h 00m 03s]\n",
      "f1_score: 0.7910695672035217\n",
      "\n",
      "Best f1_score So Far: 0.8333333134651184\n",
      "Total elapsed time: 00h 02m 10s\n"
     ]
    }
   ],
   "source": [
    "# Execute the search\n",
    "tuner.search(X_train, y_train, epochs=10, validation_data=(X_val, y_val), callbacks=[stop_early])"
   ]
  },
  {
   "cell_type": "code",
   "execution_count": 46,
   "id": "b3de2309-92a1-4d8b-b4f8-913abae0d159",
   "metadata": {
    "colab": {
     "base_uri": "https://localhost:8080/"
    },
    "id": "b3de2309-92a1-4d8b-b4f8-913abae0d159",
    "outputId": "7114263e-506c-44a2-fc7e-a77388fbae6e"
   },
   "outputs": [
    {
     "name": "stdout",
     "output_type": "stream",
     "text": [
      "Trial 0057 summary\n",
      "Hyperparameters:\n",
      "units_input: 256\n",
      "l2_input: 0.0050433278483615574\n",
      "dropout_input: 0.0\n",
      "num_layers: 3\n",
      "units_0: 48\n",
      "l2_0: 0.000924222110450238\n",
      "dropout_0: 0.1\n",
      "learning_rate: 9.194613051757531e-05\n",
      "units_1: 176\n",
      "l2_1: 0.00040228790416015195\n",
      "dropout_1: 0.0\n",
      "units_2: 176\n",
      "l2_2: 0.0054020687227606555\n",
      "dropout_2: 0.0\n",
      "units_3: 240\n",
      "l2_3: 0.00573552233935047\n",
      "dropout_3: 0.1\n",
      "units_4: 16\n",
      "l2_4: 0.00017648693561850395\n",
      "dropout_4: 0.2\n",
      "tuner/epochs: 10\n",
      "tuner/initial_epoch: 0\n",
      "tuner/bracket: 0\n",
      "tuner/round: 0\n",
      "Score: 0.8333333134651184\n"
     ]
    }
   ],
   "source": [
    "# Get the optimal hyperparameters\n",
    "best_trial = tuner.oracle.get_best_trials(num_trials=1)[0]\n",
    "best_trial.summary()"
   ]
  },
  {
   "cell_type": "code",
   "execution_count": 47,
   "id": "27768bb7-46d3-40fb-8729-e3ce6e5ddcaa",
   "metadata": {
    "colab": {
     "base_uri": "https://localhost:8080/"
    },
    "id": "27768bb7-46d3-40fb-8729-e3ce6e5ddcaa",
    "outputId": "93df90c4-11fc-496f-8e29-c67212c073f4"
   },
   "outputs": [
    {
     "name": "stdout",
     "output_type": "stream",
     "text": [
      "Epoch 1/15\n",
      "89/89 [==============================] - 1s 3ms/step - loss: 1.8111 - f1_score: 0.7425 - val_loss: 1.6886 - val_f1_score: 0.7623\n",
      "Epoch 2/15\n",
      "46/89 [==============>...............] - ETA: 0s - loss: 1.6168 - f1_score: 0.7682"
     ]
    },
    {
     "name": "stderr",
     "output_type": "stream",
     "text": [
      "C:\\Users\\Vlad\\anaconda3\\envs\\comsci714\\lib\\site-packages\\keras\\src\\engine\\training.py:2620: UserWarning: Metric F1Score implements a `reset_states()` method; rename it to `reset_state()` (without the final \"s\"). The name `reset_states()` has been deprecated to improve API consistency.\n",
      "  m.reset_state()\n"
     ]
    },
    {
     "name": "stdout",
     "output_type": "stream",
     "text": [
      "89/89 [==============================] - 0s 2ms/step - loss: 1.5515 - f1_score: 0.7787 - val_loss: 1.4415 - val_f1_score: 0.7772\n",
      "Epoch 3/15\n",
      "89/89 [==============================] - 0s 2ms/step - loss: 1.3582 - f1_score: 0.7695 - val_loss: 1.2945 - val_f1_score: 0.7811\n",
      "Epoch 4/15\n",
      "89/89 [==============================] - 0s 2ms/step - loss: 1.2250 - f1_score: 0.7858 - val_loss: 1.1806 - val_f1_score: 0.7570\n",
      "Epoch 5/15\n",
      "89/89 [==============================] - 0s 2ms/step - loss: 1.1225 - f1_score: 0.7839 - val_loss: 1.0868 - val_f1_score: 0.7570\n",
      "Epoch 6/15\n",
      "89/89 [==============================] - 0s 2ms/step - loss: 1.0358 - f1_score: 0.7890 - val_loss: 1.0111 - val_f1_score: 0.7827\n",
      "Epoch 7/15\n",
      "89/89 [==============================] - 0s 2ms/step - loss: 0.9581 - f1_score: 0.8055 - val_loss: 0.9410 - val_f1_score: 0.7835\n",
      "Epoch 8/15\n",
      "89/89 [==============================] - 0s 2ms/step - loss: 0.8974 - f1_score: 0.7970 - val_loss: 0.8763 - val_f1_score: 0.7813\n",
      "Epoch 9/15\n",
      "89/89 [==============================] - 0s 2ms/step - loss: 0.8359 - f1_score: 0.8140 - val_loss: 0.8224 - val_f1_score: 0.7855\n",
      "Epoch 10/15\n",
      "89/89 [==============================] - 0s 2ms/step - loss: 0.7952 - f1_score: 0.8090 - val_loss: 0.7808 - val_f1_score: 0.8058\n",
      "Epoch 11/15\n",
      "89/89 [==============================] - 0s 2ms/step - loss: 0.7447 - f1_score: 0.8258 - val_loss: 0.7404 - val_f1_score: 0.8076\n",
      "Epoch 12/15\n",
      "89/89 [==============================] - 0s 2ms/step - loss: 0.7060 - f1_score: 0.8366 - val_loss: 0.7106 - val_f1_score: 0.8403\n",
      "Epoch 13/15\n",
      "89/89 [==============================] - 0s 2ms/step - loss: 0.6728 - f1_score: 0.8406 - val_loss: 0.6803 - val_f1_score: 0.8597\n",
      "Epoch 14/15\n",
      "89/89 [==============================] - 0s 2ms/step - loss: 0.6454 - f1_score: 0.8517 - val_loss: 0.6439 - val_f1_score: 0.8385\n",
      "Epoch 15/15\n",
      "89/89 [==============================] - 0s 2ms/step - loss: 0.6129 - f1_score: 0.8627 - val_loss: 0.6159 - val_f1_score: 0.8367\n"
     ]
    }
   ],
   "source": [
    "# Get the best hyperparameters\n",
    "best_hp = tuner.get_best_hyperparameters()[0]\n",
    "\n",
    "# Build the model with the best hyperparameters\n",
    "model_hyperTuned = tuner.hypermodel.build(best_hp)\n",
    "\n",
    "# Train the model\n",
    "history = model_hyperTuned.fit(X_train, y_train, epochs=15, validation_data=(X_val, y_val))"
   ]
  },
  {
   "cell_type": "code",
   "execution_count": 48,
   "id": "53a6e53b-6c6a-4513-b499-f3050bb6b24d",
   "metadata": {
    "colab": {
     "base_uri": "https://localhost:8080/",
     "height": 470
    },
    "id": "53a6e53b-6c6a-4513-b499-f3050bb6b24d",
    "outputId": "ddad9752-31cb-45cc-a2f5-cd3124dcb98b"
   },
   "outputs": [
    {
     "data": {
      "image/png": "[encoded data removed]",
      "text/plain": [
       "<Figure size 800x500 with 1 Axes>"
      ]
     },
     "metadata": {},
     "output_type": "display_data"
    }
   ],
   "source": [
    "plot_training_history(history)"
   ]
  },
  {
   "cell_type": "code",
   "execution_count": 49,
   "id": "9dc3ca95-eec8-4500-9b7a-72f904e426b5",
   "metadata": {
    "id": "db41875b-f42e-4cd0-b4ef-3d9c5076bf94"
   },
   "outputs": [
    {
     "name": "stdout",
     "output_type": "stream",
     "text": [
      "16/16 [==============================] - 0s 1ms/step - loss: 0.6821 - f1_score: 0.1270\n"
     ]
    },
    {
     "name": "stderr",
     "output_type": "stream",
     "text": [
      "C:\\Users\\Vlad\\anaconda3\\envs\\comsci714\\lib\\site-packages\\keras\\src\\engine\\training.py:2620: UserWarning: Metric F1Score implements a `reset_states()` method; rename it to `reset_state()` (without the final \"s\"). The name `reset_states()` has been deprecated to improve API consistency.\n",
      "  m.reset_state()\n"
     ]
    }
   ],
   "source": [
    "# Evaluate the best model\n",
    "test_loss, test_recall = model_hyperTuned.evaluate(X_test_scaled, y_test)"
   ]
  },
  {
   "cell_type": "code",
   "execution_count": 50,
   "id": "97c9c3a5-b0e5-41f6-aa64-10bbc4598f12",
   "metadata": {
    "colab": {
     "base_uri": "https://localhost:8080/",
     "height": 564
    },
    "id": "97c9c3a5-b0e5-41f6-aa64-10bbc4598f12",
    "outputId": "26cc384e-c193-47ad-c961-d082ac2463d7"
   },
   "outputs": [
    {
     "name": "stdout",
     "output_type": "stream",
     "text": [
      "16/16 [==============================] - 0s 780us/step\n"
     ]
    },
    {
     "name": "stderr",
     "output_type": "stream",
     "text": [
      "C:\\Users\\Vlad\\AppData\\Local\\Temp\\ipykernel_20404\\1237922436.py:19: UserWarning: set_ticklabels() should only be used with a fixed number of ticks, i.e. after set_ticks() or using a FixedLocator.\n",
      "  ax.set_xticklabels([''] + ['No Stroke', 'Stroke'])\n",
      "C:\\Users\\Vlad\\AppData\\Local\\Temp\\ipykernel_20404\\1237922436.py:20: UserWarning: set_ticklabels() should only be used with a fixed number of ticks, i.e. after set_ticks() or using a FixedLocator.\n",
      "  ax.set_yticklabels([''] + ['No Stroke', 'Stroke'])\n"
     ]
    },
    {
     "data": {
      "image/png": "[encoded data removed]",
      "text/plain": [
       "<Figure size 640x480 with 2 Axes>"
      ]
     },
     "metadata": {},
     "output_type": "display_data"
    }
   ],
   "source": [
    "plot_confusion_matrix(model_hyperTuned)"
   ]
  },
  {
   "cell_type": "code",
   "execution_count": 51,
   "id": "fb7ba9b5-8e50-443c-8bb4-fd3f5afc334d",
   "metadata": {
    "colab": {
     "base_uri": "https://localhost:8080/",
     "height": 255
    },
    "id": "fb7ba9b5-8e50-443c-8bb4-fd3f5afc334d",
    "outputId": "75f12a07-28d6-4e24-c41d-e514d091d1bf"
   },
   "outputs": [
    {
     "name": "stdout",
     "output_type": "stream",
     "text": [
      "16/16 [==============================] - 0s 930us/step\n"
     ]
    },
    {
     "data": {
      "text/html": [
       "<div>\n",
       "<style scoped>\n",
       "    .dataframe tbody tr th:only-of-type {\n",
       "        vertical-align: middle;\n",
       "    }\n",
       "\n",
       "    .dataframe tbody tr th {\n",
       "        vertical-align: top;\n",
       "    }\n",
       "\n",
       "    .dataframe thead th {\n",
       "        text-align: right;\n",
       "    }\n",
       "</style>\n",
       "<table border=\"1\" class=\"dataframe\">\n",
       "  <thead>\n",
       "    <tr style=\"text-align: right;\">\n",
       "      <th></th>\n",
       "      <th>Model</th>\n",
       "      <th>Accuracy</th>\n",
       "      <th>Recall</th>\n",
       "      <th>Precision</th>\n",
       "      <th>F1</th>\n",
       "    </tr>\n",
       "  </thead>\n",
       "  <tbody>\n",
       "    <tr>\n",
       "      <th>0</th>\n",
       "      <td>Initial Model</td>\n",
       "      <td>0.736626</td>\n",
       "      <td>0.909091</td>\n",
       "      <td>0.072993</td>\n",
       "      <td>0.135135</td>\n",
       "    </tr>\n",
       "    <tr>\n",
       "      <th>1</th>\n",
       "      <td>Model with Dropout</td>\n",
       "      <td>0.757202</td>\n",
       "      <td>0.909091</td>\n",
       "      <td>0.078740</td>\n",
       "      <td>0.144928</td>\n",
       "    </tr>\n",
       "    <tr>\n",
       "      <th>2</th>\n",
       "      <td>Model with L2</td>\n",
       "      <td>0.722222</td>\n",
       "      <td>0.909091</td>\n",
       "      <td>0.069444</td>\n",
       "      <td>0.129032</td>\n",
       "    </tr>\n",
       "    <tr>\n",
       "      <th>3</th>\n",
       "      <td>Model with Batch Normalisation</td>\n",
       "      <td>0.720165</td>\n",
       "      <td>0.818182</td>\n",
       "      <td>0.062937</td>\n",
       "      <td>0.116883</td>\n",
       "    </tr>\n",
       "    <tr>\n",
       "      <th>4</th>\n",
       "      <td>Hyperband tuned Model</td>\n",
       "      <td>0.773663</td>\n",
       "      <td>0.727273</td>\n",
       "      <td>0.069565</td>\n",
       "      <td>0.126984</td>\n",
       "    </tr>\n",
       "  </tbody>\n",
       "</table>\n",
       "</div>"
      ],
      "text/plain": [
       "                            Model  Accuracy    Recall  Precision        F1\n",
       "0                   Initial Model  0.736626  0.909091   0.072993  0.135135\n",
       "1              Model with Dropout  0.757202  0.909091   0.078740  0.144928\n",
       "2                   Model with L2  0.722222  0.909091   0.069444  0.129032\n",
       "3  Model with Batch Normalisation  0.720165  0.818182   0.062937  0.116883\n",
       "4           Hyperband tuned Model  0.773663  0.727273   0.069565  0.126984"
      ]
     },
     "execution_count": 51,
     "metadata": {},
     "output_type": "execute_result"
    }
   ],
   "source": [
    "new_data = update_model_metrics(model_hyperTuned, \"Hyperband tuned Model\")\n",
    "df_models = pd.concat([df_models, new_data], ignore_index=True)\n",
    "df_models"
   ]
  },
  {
   "cell_type": "markdown",
   "id": "7f935e2b-24df-42ec-bc80-e5c581c0fe17",
   "metadata": {
    "id": "7f935e2b-24df-42ec-bc80-e5c581c0fe17"
   },
   "source": [
    "#### Interpretation:\n",
    "The F1 scoreis below the top model's performance but indicates a reasonable balance between precision and recall, considering the high recall rate."
   ]
  },
  {
   "cell_type": "markdown",
   "id": "b3d34557-ee0a-477c-8669-94eac704d9ce",
   "metadata": {},
   "source": [
    "#### Considerations for Dropout\n",
    "It's important to note that due to the stochastic nature of dropout, which randomly omits neurons during training, the evaluation metrics could show some variability. The randomness introduced by dropout aims to enhance the model's robustness, but it also means that performance metrics may differ slightly each time the model is trained and evaluated."
   ]
  },
  {
   "cell_type": "markdown",
   "id": "37e73da9-5a97-40cf-a3a7-69155eacd9e2",
   "metadata": {
    "id": "37e73da9-5a97-40cf-a3a7-69155eacd9e2"
   },
   "source": [
    "### Conclusion:"
   ]
  },
  {
   "cell_type": "markdown",
   "id": "82d3f845-52f2-4189-a0ee-59c42d822188",
   "metadata": {
    "id": "82d3f845-52f2-4189-a0ee-59c42d822188"
   },
   "source": [
    "Despite the variations in model complexity, the recall metric consistently ranges between 82-91%, translating to 9 or 10 correctly predicted cases of stroke out of 11 in the test set. Precision and recall fluctuate between 65-75% and 10-13%, respectively. This pattern indicates that while the model reliably minimizes false negatives, which is crucial for medical diagnostic tools, it struggles to balance this with precision.\n",
    "\n",
    "The models tested have reached a plateau in performance with the current dataset size, suggesting that further model tuning with the existing data may yield diminishing returns. To enhance the model's learning capacity and potentially improve performance, data augmentation techniques could be employed. Synthetic data generation, particularly for the underrepresented stroke class, may assist in creating a more balanced dataset, leading to improved model training.\n",
    "\n",
    "Additionally, the persistent high rate of false positives could imply an overreliance on specific features, hinting that the model may not be capturing the underlying complexity of the data. A deeper dive into feature engineering and selection might unearth more nuanced patterns and relationships within the data, allowing the model to make more accurate predictions."
   ]
  },
  {
   "cell_type": "code",
   "execution_count": null,
   "id": "64fe5a54-0fc0-4cfd-881b-daffe462a55b",
   "metadata": {},
   "outputs": [],
   "source": []
  }
 ],
 "metadata": {
  "colab": {
   "provenance": []
  },
  "kernelspec": {
   "display_name": "Python 3 (ipykernel)",
   "language": "python",
   "name": "python3"
  },
  "language_info": {
   "codemirror_mode": {
    "name": "ipython",
    "version": 3
   },
   "file_extension": ".py",
   "mimetype": "text/x-python",
   "name": "python",
   "nbconvert_exporter": "python",
   "pygments_lexer": "ipython3",
   "version": "3.9.19"
  }
 },
 "nbformat": 4,
 "nbformat_minor": 5
}
